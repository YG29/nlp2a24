{
 "cells": [
  {
   "cell_type": "code",
   "execution_count": 200,
   "id": "initial_id",
   "metadata": {
    "collapsed": true,
    "ExecuteTime": {
     "end_time": "2024-03-01T12:12:06.254311Z",
     "start_time": "2024-03-01T12:12:06.233942Z"
    }
   },
   "outputs": [
    {
     "name": "stderr",
     "output_type": "stream",
     "text": [
      "[nltk_data] Downloading package stopwords to\n",
      "[nltk_data]     C:\\Users\\Asus\\AppData\\Roaming\\nltk_data...\n",
      "[nltk_data]   Package stopwords is already up-to-date!\n"
     ]
    }
   ],
   "source": [
    "import re\n",
    "import nltk\n",
    "nltk.download('stopwords')\n",
    "from nltk.corpus import stopwords\n",
    "from nltk.stem import WordNetLemmatizer\n",
    "from nltk.tokenize import wordpunct_tokenize\n",
    "import pandas as pd\n",
    "import numpy as np\n",
    "import matplotlib.pyplot as plt\n",
    "import string\n",
    "import tqdm\n",
    "import tensorflow as tf\n",
    "from sklearn.feature_extraction.text import TfidfVectorizer\n",
    "from sklearn.model_selection import train_test_split"
   ]
  },
  {
   "cell_type": "code",
   "outputs": [
    {
     "data": {
      "text/plain": "                                                  essay  emotion\n0     it is really diheartening to read about these ...  sadness\n1     the phone lines from the suicide prevention li...  sadness\n2     no matter what your heritage, you should be ab...  neutral\n3     it is frightening to learn about all these sha...     fear\n4     the eldest generation of russians aren't being...  sadness\n...                                                 ...      ...\n1855  These days, women are winning in sports. There...      joy\n1856  I hate ISIS. They are a group full of hate and...    anger\n1857  This is just disgusting. I cannot believe that...  disgust\n1858  I feel like the world is so corrupt that it no...  sadness\n1859  This is such a weird experience and so unexpla...  sadness\n\n[1860 rows x 2 columns]",
      "text/html": "<div>\n<style scoped>\n    .dataframe tbody tr th:only-of-type {\n        vertical-align: middle;\n    }\n\n    .dataframe tbody tr th {\n        vertical-align: top;\n    }\n\n    .dataframe thead th {\n        text-align: right;\n    }\n</style>\n<table border=\"1\" class=\"dataframe\">\n  <thead>\n    <tr style=\"text-align: right;\">\n      <th></th>\n      <th>essay</th>\n      <th>emotion</th>\n    </tr>\n  </thead>\n  <tbody>\n    <tr>\n      <th>0</th>\n      <td>it is really diheartening to read about these ...</td>\n      <td>sadness</td>\n    </tr>\n    <tr>\n      <th>1</th>\n      <td>the phone lines from the suicide prevention li...</td>\n      <td>sadness</td>\n    </tr>\n    <tr>\n      <th>2</th>\n      <td>no matter what your heritage, you should be ab...</td>\n      <td>neutral</td>\n    </tr>\n    <tr>\n      <th>3</th>\n      <td>it is frightening to learn about all these sha...</td>\n      <td>fear</td>\n    </tr>\n    <tr>\n      <th>4</th>\n      <td>the eldest generation of russians aren't being...</td>\n      <td>sadness</td>\n    </tr>\n    <tr>\n      <th>...</th>\n      <td>...</td>\n      <td>...</td>\n    </tr>\n    <tr>\n      <th>1855</th>\n      <td>These days, women are winning in sports. There...</td>\n      <td>joy</td>\n    </tr>\n    <tr>\n      <th>1856</th>\n      <td>I hate ISIS. They are a group full of hate and...</td>\n      <td>anger</td>\n    </tr>\n    <tr>\n      <th>1857</th>\n      <td>This is just disgusting. I cannot believe that...</td>\n      <td>disgust</td>\n    </tr>\n    <tr>\n      <th>1858</th>\n      <td>I feel like the world is so corrupt that it no...</td>\n      <td>sadness</td>\n    </tr>\n    <tr>\n      <th>1859</th>\n      <td>This is such a weird experience and so unexpla...</td>\n      <td>sadness</td>\n    </tr>\n  </tbody>\n</table>\n<p>1860 rows × 2 columns</p>\n</div>"
     },
     "execution_count": 201,
     "metadata": {},
     "output_type": "execute_result"
    }
   ],
   "source": [
    "#put data into a dataframe, remove punctuation and uppercase\n",
    "directory = r\"C:\\Users\\Asus\\PycharmProjects\\nlpTask2\\train_ready_for_WS.csv\"\n",
    "directory_test = r\"C:\\Users\\Asus\\PycharmProjects\\nlpTask2\\test.csv\"\n",
    "df = pd.read_csv(directory, sep=';')\n",
    "df = df.drop(columns=['article_id'])\n",
    "df_test = pd.read_csv(directory_test, sep=';')\n",
    "df_test = df_test.drop(columns=['article_id'])\n",
    "df"
   ],
   "metadata": {
    "collapsed": false,
    "ExecuteTime": {
     "end_time": "2024-03-01T12:12:06.707677200Z",
     "start_time": "2024-03-01T12:12:06.686415600Z"
    }
   },
   "id": "b20274dd02026233",
   "execution_count": 201
  },
  {
   "cell_type": "code",
   "outputs": [],
   "source": [
    "# Preprocessing"
   ],
   "metadata": {
    "collapsed": false,
    "ExecuteTime": {
     "end_time": "2024-03-01T12:12:07.588573700Z",
     "start_time": "2024-03-01T12:12:07.570268400Z"
    }
   },
   "id": "9175ec62c801b01e",
   "execution_count": 202
  },
  {
   "cell_type": "code",
   "outputs": [],
   "source": [
    "def clean_text(doc):\n",
    "    \"\"\"\n",
    "    This function is used to clean the text data. It performs several operations to preprocess the text data.\n",
    "    \n",
    "    Parameters:\n",
    "    doc (str): The text document that needs to be cleaned.\n",
    "\n",
    "    Returns:\n",
    "    doc (str): The cleaned text document.\n",
    "\n",
    "    The steps involved in the cleaning process are:\n",
    "    1. Convert all characters to lowercase.\n",
    "    2. Replace all punctuation with a space.\n",
    "    3. Split the text into tokens (words) using white space as a delimiter.\n",
    "    4. Remove tokens that are not alphabetic.\n",
    "    5. Filter out English stop words.\n",
    "    6. Filter out short tokens (length <= 1).\n",
    "    7. Join the tokens back into a single string with spaces in between.\n",
    "    \"\"\"\n",
    "    doc = doc.lower()\n",
    "\n",
    "    # Replace all punctuation with a space\n",
    "    for char in string.punctuation:\n",
    "        doc = doc.replace(char, ' ')\n",
    "\n",
    "    # Split the text into tokens (words) using white space as a delimiter\n",
    "    tokens = doc.split()\n",
    "\n",
    "    # Remove tokens that are not alphabetic\n",
    "    tokens = [word for word in tokens if word.isalpha()]\n",
    "\n",
    "    # Filter out English stop words\n",
    "    stop_words = set(stopwords.words('english'))\n",
    "    tokens = [word for word in tokens if not word in stop_words]\n",
    "\n",
    "    # Filter out short tokens (length <= 1)\n",
    "    tokens = [word for word in tokens if len(word) > 1]\n",
    "\n",
    "    # Join the tokens back into a single string with spaces in between\n",
    "    doc = \" \".join(tokens)\n",
    "\n",
    "    return doc\n",
    "\n"
   ],
   "metadata": {
    "collapsed": false,
    "ExecuteTime": {
     "end_time": "2024-03-01T12:12:08.506940200Z",
     "start_time": "2024-03-01T12:12:08.491579900Z"
    }
   },
   "id": "849624d8d5ce7356",
   "execution_count": 203
  },
  {
   "cell_type": "code",
   "outputs": [],
   "source": [
    "\n",
    "def clean_df(df_new):\n",
    "    \"\"\"\n",
    "    This function is used to clean the text data in a DataFrame. It applies the clean_text function to each text in the DataFrame.\n",
    "\n",
    "    Parameters:\n",
    "    df (DataFrame): The DataFrame that contains the text data that needs to be cleaned.\n",
    "\n",
    "    Returns:\n",
    "    cleaned_df (list): A list of cleaned text data.\n",
    "\n",
    "    The steps involved in the cleaning process are:\n",
    "    1. Initialize an empty list, cleaned_df.\n",
    "    2. Iterate over each text in the 'text' column of the DataFrame.\n",
    "    3. Apply the clean_text function to each text.\n",
    "    4. Append the cleaned text to the cleaned_df list.\n",
    "    5. Return the cleaned_df list.\n",
    "    \"\"\"\n",
    "\n",
    "    # Initialize an empty list, cleaned_df\n",
    "    cleaned_df = []\n",
    "\n",
    "    # Iterate over each text in the 'text' column of the DataFrame\n",
    "    for text in df_new['essay']:\n",
    "        # Apply the clean_text function to each text\n",
    "        clean = clean_text(text)\n",
    "\n",
    "         # Append the cleaned text to the cleaned_df list\n",
    "        cleaned_df.append(clean)\n",
    "\n",
    "    # Return the cleaned_df list\n",
    "    return cleaned_df"
   ],
   "metadata": {
    "collapsed": false,
    "ExecuteTime": {
     "end_time": "2024-03-01T12:12:09.061567Z",
     "start_time": "2024-03-01T12:12:09.050530600Z"
    }
   },
   "id": "a47e55c5c6c7df6e",
   "execution_count": 204
  },
  {
   "cell_type": "code",
   "outputs": [],
   "source": [
    "cleaned_df = df\n",
    "cleaned_df['essay'] = df['essay'].apply(lambda x: clean_text(x))\n",
    "cleaned_df_test = df_test\n",
    "cleaned_df_test['essay'] = df_test['essay'].apply(lambda x: clean_text(x))"
   ],
   "metadata": {
    "collapsed": false,
    "ExecuteTime": {
     "end_time": "2024-03-01T12:12:10.171594100Z",
     "start_time": "2024-03-01T12:12:09.632009500Z"
    }
   },
   "id": "cc8d50823332a4b0",
   "execution_count": 205
  },
  {
   "cell_type": "code",
   "outputs": [
    {
     "name": "stdout",
     "output_type": "stream",
     "text": [
      "0       iraq islamic state militants kidnapping thousa...\n",
      "1       read article leprosy found squirrels kind scar...\n",
      "2       hello feel bad yu death young already accompli...\n",
      "3       article seems slightly sympathetic inmates say...\n",
      "4       whole police violence blacks theme overplayed ...\n",
      "                              ...                        \n",
      "1297    gruesome moment help fact refugees face exhaus...\n",
      "1298    lmao one told like public information insuranc...\n",
      "1299    read article elephants becoming extinct due pe...\n",
      "1300    think find precisely child years thing years s...\n",
      "1301    global warming issue brewing time seems gettin...\n",
      "Name: essay, Length: 1302, dtype: object\n",
      "0          fear\n",
      "1          fear\n",
      "2       sadness\n",
      "3         anger\n",
      "4         anger\n",
      "         ...   \n",
      "1297    neutral\n",
      "1298      anger\n",
      "1299    sadness\n",
      "1300      anger\n",
      "1301    neutral\n",
      "Name: emotion, Length: 1302, dtype: object\n"
     ]
    }
   ],
   "source": [
    "#split the training data into training and validation sets\n",
    "train_x, val_x, train_y, val_y = train_test_split(cleaned_df['essay'], cleaned_df['emotion'], test_size=0.3, random_state=42)\n",
    "\n",
    "val_x = val_x.reset_index(drop=True)\n",
    "val_y = val_y.reset_index(drop=True)\n",
    "train_x = train_x.reset_index(drop=True)\n",
    "train_y = train_y.reset_index(drop=True)\n",
    "print(train_x)\n",
    "print(train_y)"
   ],
   "metadata": {
    "collapsed": false,
    "ExecuteTime": {
     "end_time": "2024-03-01T12:12:10.192003800Z",
     "start_time": "2024-03-01T12:12:10.178075400Z"
    }
   },
   "id": "e903e6ad7e8a8c06",
   "execution_count": 206
  },
  {
   "cell_type": "code",
   "outputs": [
    {
     "data": {
      "text/plain": "<Figure size 640x480 with 1 Axes>",
      "image/png": "[encoded data removed]"
     },
     "metadata": {},
     "output_type": "display_data"
    }
   ],
   "source": [
    "emotion_counts = train_y.value_counts()\n",
    "\n",
    "plt.bar(emotion_counts.index, emotion_counts.values, color='skyblue')\n",
    "plt.xlabel('Emotion')\n",
    "plt.ylabel('Count')\n",
    "plt.title('Emotion Distribution')\n",
    "plt.show()"
   ],
   "metadata": {
    "collapsed": false,
    "ExecuteTime": {
     "end_time": "2024-03-01T12:12:11.320278Z",
     "start_time": "2024-03-01T12:12:11.232371600Z"
    }
   },
   "id": "844676fd27a96b2c",
   "execution_count": 207
  },
  {
   "cell_type": "code",
   "outputs": [],
   "source": [
    "# TF-IDF"
   ],
   "metadata": {
    "collapsed": false,
    "ExecuteTime": {
     "end_time": "2024-03-01T12:12:12.172872600Z",
     "start_time": "2024-03-01T12:12:12.146215Z"
    }
   },
   "id": "858f28d4f31f4ba1",
   "execution_count": 208
  },
  {
   "cell_type": "code",
   "outputs": [
    {
     "name": "stdout",
     "output_type": "stream",
     "text": [
      "            0     1         2     3     4     5     6     7     8     9     \\\n",
      "able         0.0   0.0  0.000000   0.0   0.0   0.0   0.0   0.0   0.0   0.0   \n",
      "absolutely   0.0   0.0  0.000000   0.0   0.0   0.0   0.0   0.0   0.0   0.0   \n",
      "abuse        0.0   0.0  0.000000   0.0   0.0   0.0   0.0   0.0   0.0   0.0   \n",
      "access       0.0   0.0  0.000000   0.0   0.0   0.0   0.0   0.0   0.0   0.0   \n",
      "accident     0.0   0.0  0.000000   0.0   0.0   0.0   0.0   0.0   0.0   0.0   \n",
      "...          ...   ...       ...   ...   ...   ...   ...   ...   ...   ...   \n",
      "yet          0.0   0.0  0.000000   0.0   0.0   0.0   0.0   0.0   0.0   0.0   \n",
      "young        0.0   0.0  0.259112   0.0   0.0   0.0   0.0   0.0   0.0   0.0   \n",
      "younger      0.0   0.0  0.000000   0.0   0.0   0.0   0.0   0.0   0.0   0.0   \n",
      "zika         0.0   0.0  0.000000   0.0   0.0   0.0   0.0   0.0   0.0   0.0   \n",
      "zoo          0.0   0.0  0.000000   0.0   0.0   0.0   0.0   0.0   0.0   0.0   \n",
      "\n",
      "            ...  1292      1293  1294  1295  1296      1297  1298  1299  1300  \\\n",
      "able        ...   0.0  0.184158   0.0   0.0   0.0  0.000000   0.0   0.0   0.0   \n",
      "absolutely  ...   0.0  0.000000   0.0   0.0   0.0  0.000000   0.0   0.0   0.0   \n",
      "abuse       ...   0.0  0.000000   0.0   0.0   0.0  0.000000   0.0   0.0   0.0   \n",
      "access      ...   0.0  0.000000   0.0   0.0   0.0  0.000000   0.0   0.0   0.0   \n",
      "accident    ...   0.0  0.000000   0.0   0.0   0.0  0.000000   0.0   0.0   0.0   \n",
      "...         ...   ...       ...   ...   ...   ...       ...   ...   ...   ...   \n",
      "yet         ...   0.0  0.000000   0.0   0.0   0.0  0.000000   0.0   0.0   0.0   \n",
      "young       ...   0.0  0.000000   0.0   0.0   0.0  0.000000   0.0   0.0   0.0   \n",
      "younger     ...   0.0  0.000000   0.0   0.0   0.0  0.337609   0.0   0.0   0.0   \n",
      "zika        ...   0.0  0.000000   0.0   0.0   0.0  0.000000   0.0   0.0   0.0   \n",
      "zoo         ...   0.0  0.000000   0.0   0.0   0.0  0.000000   0.0   0.0   0.0   \n",
      "\n",
      "            1301  \n",
      "able         0.0  \n",
      "absolutely   0.0  \n",
      "abuse        0.0  \n",
      "access       0.0  \n",
      "accident     0.0  \n",
      "...          ...  \n",
      "yet          0.0  \n",
      "young        0.0  \n",
      "younger      0.0  \n",
      "zika         0.0  \n",
      "zoo          0.0  \n",
      "\n",
      "[900 rows x 1302 columns]\n"
     ]
    }
   ],
   "source": [
    "train_corpus = train_x.tolist()\n",
    "vectorizer = TfidfVectorizer(use_idf=True, max_features=900)\n",
    "tf_idf_train_text = vectorizer.fit_transform(train_x).toarray()\n",
    "#vectorizer.get_feature_names_out()\n",
    "tf_idf_train_df = pd.DataFrame(tf_idf_train_text, columns=vectorizer.get_feature_names_out())\n",
    "tf_idf_train_df = tf_idf_train_df.transpose()\n",
    "print(tf_idf_train_df)"
   ],
   "metadata": {
    "collapsed": false,
    "ExecuteTime": {
     "end_time": "2024-03-01T12:15:03.387412900Z",
     "start_time": "2024-03-01T12:15:03.343477500Z"
    }
   },
   "id": "b15c06bae71845bd",
   "execution_count": 218
  },
  {
   "cell_type": "code",
   "outputs": [
    {
     "name": "stdout",
     "output_type": "stream",
     "text": [
      "            0         1    2    3    4    5    6       7    8         9    \\\n",
      "able        0.0  0.000000  0.0  0.0  0.0  0.0  0.0  0.0000  0.0  0.142283   \n",
      "absolutely  0.0  0.000000  0.0  0.0  0.0  0.0  0.0  0.0000  0.0  0.000000   \n",
      "absurd      0.0  0.000000  0.0  0.0  0.0  0.0  0.0  0.0000  0.0  0.000000   \n",
      "abuse       0.0  0.000000  0.0  0.0  0.0  0.0  0.0  0.0000  0.0  0.000000   \n",
      "abused      0.0  0.000000  0.0  0.0  0.0  0.0  0.0  0.0000  0.0  0.000000   \n",
      "...         ...       ...  ...  ...  ...  ...  ...     ...  ...       ...   \n",
      "year        0.0  0.000000  0.0  0.0  0.0  0.0  0.0  0.0000  0.0  0.000000   \n",
      "years       0.0  0.173723  0.0  0.0  0.0  0.0  0.0  0.0000  0.0  0.000000   \n",
      "yes         0.0  0.000000  0.0  0.0  0.0  0.0  0.0  0.0000  0.0  0.000000   \n",
      "yet         0.0  0.000000  0.0  0.0  0.0  0.0  0.0  0.1469  0.0  0.000000   \n",
      "young       0.0  0.000000  0.0  0.0  0.0  0.0  0.0  0.0000  0.0  0.000000   \n",
      "\n",
      "            ...  260  261       262  263  264  265  266  267  268  269  \n",
      "able        ...  0.0  0.0  0.000000  0.0  0.0  0.0  0.0  0.0  0.0  0.0  \n",
      "absolutely  ...  0.0  0.0  0.172454  0.0  0.0  0.0  0.0  0.0  0.0  0.0  \n",
      "absurd      ...  0.0  0.0  0.000000  0.0  0.0  0.0  0.0  0.0  0.0  0.0  \n",
      "abuse       ...  0.0  0.0  0.000000  0.0  0.0  0.0  0.0  0.0  0.0  0.0  \n",
      "abused      ...  0.0  0.0  0.000000  0.0  0.0  0.0  0.0  0.0  0.0  0.0  \n",
      "...         ...  ...  ...       ...  ...  ...  ...  ...  ...  ...  ...  \n",
      "year        ...  0.0  0.0  0.000000  0.0  0.0  0.0  0.0  0.0  0.0  0.0  \n",
      "years       ...  0.0  0.0  0.000000  0.0  0.0  0.0  0.0  0.0  0.0  0.0  \n",
      "yes         ...  0.0  0.0  0.000000  0.0  0.0  0.0  0.0  0.0  0.0  0.0  \n",
      "yet         ...  0.0  0.0  0.000000  0.0  0.0  0.0  0.0  0.0  0.0  0.0  \n",
      "young       ...  0.0  0.0  0.000000  0.0  0.0  0.0  0.0  0.0  0.0  0.0  \n",
      "\n",
      "[900 rows x 270 columns]\n"
     ]
    }
   ],
   "source": [
    "test_corpus = df_test[\"essay\"].tolist()\n",
    "vectorizer_test = TfidfVectorizer(use_idf=True, max_features=900)\n",
    "tf_idf_test_text = vectorizer_test.fit_transform(test_corpus).toarray()\n",
    "tf_idf_test_df = pd.DataFrame(tf_idf_test_text, columns=vectorizer_test.get_feature_names_out())\n",
    "tf_idf_test_df = tf_idf_test_df.transpose()\n",
    "print(tf_idf_test_df)"
   ],
   "metadata": {
    "collapsed": false,
    "ExecuteTime": {
     "end_time": "2024-03-01T12:15:38.125055700Z",
     "start_time": "2024-03-01T12:15:38.087110Z"
    }
   },
   "id": "41166c2a4e116c78",
   "execution_count": 219
  },
  {
   "cell_type": "code",
   "outputs": [],
   "source": [],
   "metadata": {
    "collapsed": false,
    "ExecuteTime": {
     "end_time": "2024-03-01T11:50:39.545069300Z",
     "start_time": "2024-03-01T11:50:39.534936600Z"
    }
   },
   "id": "a88e8dcc1dcfba9e",
   "execution_count": 186
  }
 ],
 "metadata": {
  "kernelspec": {
   "display_name": "Python 3",
   "language": "python",
   "name": "python3"
  },
  "language_info": {
   "codemirror_mode": {
    "name": "ipython",
    "version": 2
   },
   "file_extension": ".py",
   "mimetype": "text/x-python",
   "name": "python",
   "nbconvert_exporter": "python",
   "pygments_lexer": "ipython2",
   "version": "2.7.6"
  }
 },
 "nbformat": 4,
 "nbformat_minor": 5
}
