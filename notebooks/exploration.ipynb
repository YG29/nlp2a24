{
 "cells": [
  {
   "cell_type": "markdown",
   "source": [
    "# Assignment 2: Emotion Classification"
   ],
   "metadata": {
    "collapsed": false
   },
   "id": "28610c7646adf47e"
  },
  {
   "cell_type": "code",
   "execution_count": 99,
   "outputs": [
    {
     "name": "stderr",
     "output_type": "stream",
     "text": [
      "[nltk_data] Downloading package stopwords to /Users/ygao/nltk_data...\n",
      "[nltk_data]   Package stopwords is already up-to-date!\n",
      "[nltk_data] Downloading package wordnet to /Users/ygao/nltk_data...\n",
      "[nltk_data]   Package wordnet is already up-to-date!\n"
     ]
    }
   ],
   "source": [
    "#all dependencies\n",
    "\n",
    "import numpy as np\n",
    "import pandas as pd\n",
    "import seaborn as sns\n",
    "import matplotlib.pyplot as plt\n",
    "\n",
    "import re\n",
    "import nltk\n",
    "nltk.download('stopwords')\n",
    "nltk.download('wordnet')\n",
    "from nltk.corpus import stopwords\n",
    "from nltk.stem import WordNetLemmatizer\n",
    "from nltk.tokenize import wordpunct_tokenize\n",
    "\n",
    "import tensorflow as tf\n",
    "from tensorflow.keras.utils import to_categorical\n",
    "from tensorflow.keras.models import Sequential\n",
    "from tensorflow.keras.layers import Dense\n",
    "\n",
    "from sklearn.model_selection import train_test_split\n",
    "from sklearn.preprocessing import LabelEncoder\n",
    "from sklearn.feature_extraction.text import TfidfVectorizer\n",
    "from sklearn.metrics import confusion_matrix, classification_report\n",
    "\n",
    "from imblearn.over_sampling import RandomOverSampler\n",
    "from imblearn.under_sampling import RandomUnderSampler"
   ],
   "metadata": {
    "collapsed": false,
    "ExecuteTime": {
     "end_time": "2024-03-02T13:55:56.785666Z",
     "start_time": "2024-03-02T13:55:56.692402Z"
    }
   },
   "id": "e096f749c73a9e61"
  },
  {
   "cell_type": "code",
   "execution_count": 26,
   "outputs": [],
   "source": [
    "#constants\n",
    "DATA_LOCATION = '../data/train_ready_for_WS.csv'\n",
    "TEST_LOCATION = '../data/test.csv'\n",
    "CLEAN_DATA_LOCATION = '../data/'\n",
    "MODEL_LOCATION = '../model/'\n",
    "RANDOM_SEED = 297\n",
    "CATEGORIES = {'anger':0, 'disgust':1, 'fear':2, 'joy':3, 'neutral':4, 'sadness':5, 'surprise':6}\n"
   ],
   "metadata": {
    "collapsed": false,
    "ExecuteTime": {
     "end_time": "2024-03-02T12:49:35.869602Z",
     "start_time": "2024-03-02T12:49:35.861449Z"
    }
   },
   "id": "e3d6ab30afd54603"
  },
  {
   "cell_type": "markdown",
   "source": [
    "# Data preparation"
   ],
   "metadata": {
    "collapsed": false
   },
   "id": "ebd70144a21131e1"
  },
  {
   "cell_type": "markdown",
   "source": [
    "We load the data from local source, and split it into train validation and test sets. \n",
    "Split corpus and target."
   ],
   "metadata": {
    "collapsed": false
   },
   "id": "d2f78ca7b35e6570"
  },
  {
   "cell_type": "code",
   "execution_count": 27,
   "outputs": [],
   "source": [
    "#load dataset\n",
    "def load_data(filename):\n",
    "    df = pd.read_csv(filename, delimiter=';')\n",
    "    return df\n",
    "\n",
    "df_train = load_data(DATA_LOCATION)\n",
    "df_test = load_data(TEST_LOCATION)"
   ],
   "metadata": {
    "collapsed": false,
    "ExecuteTime": {
     "end_time": "2024-03-02T12:49:37.888165Z",
     "start_time": "2024-03-02T12:49:37.864281Z"
    }
   },
   "id": "5d183f80276fce22"
  },
  {
   "cell_type": "code",
   "execution_count": 28,
   "outputs": [],
   "source": [
    "#split training dataset into train, validation (70-30)\n",
    "\n",
    "df_train, df_val = train_test_split(df_train, test_size=0.3, random_state=RANDOM_SEED)\n",
    "#reset indices\n",
    "df_train = df_train.reset_index(drop=True)\n",
    "df_val = df_val.reset_index(drop=True)\n",
    "df_test = df_test.reset_index(drop=True)\n",
    "#save the split data frames to csv just in case\n",
    "df_train.to_csv(CLEAN_DATA_LOCATION+'raw_train.csv', index=False)\n",
    "df_val.to_csv(CLEAN_DATA_LOCATION+'raw_val.csv', index=False)\n",
    "df_test.to_csv(CLEAN_DATA_LOCATION+'raw_test.csv', index=False)"
   ],
   "metadata": {
    "collapsed": false,
    "ExecuteTime": {
     "end_time": "2024-03-02T12:49:38.731239Z",
     "start_time": "2024-03-02T12:49:38.707863Z"
    }
   },
   "id": "5b179ec9ca0d9f10"
  },
  {
   "cell_type": "markdown",
   "source": [
    "We have a closer look at the training set to see if the data is balanced. As it turns out the data contains a lot of neutral posts. There are several ways to deal with this class imbalance. We could undersample the overrepresented class; we could also adjust class weights; or we could use model such as Random Forests which is not sensitive to class imbalance. \n",
    "\n",
    "note: we can discuss this later"
   ],
   "metadata": {
    "collapsed": false
   },
   "id": "dcaaad7bbb33cdaf"
  },
  {
   "cell_type": "code",
   "execution_count": 66,
   "outputs": [
    {
     "name": "stdout",
     "output_type": "stream",
     "text": [
      "Possible sentiments are ['anger' 'disgust' 'fear' 'joy' 'neutral' 'sadness' 'surprise'] of 7 sentiments\n",
      "The number of posts for training is 1302\n"
     ]
    },
    {
     "name": "stderr",
     "output_type": "stream",
     "text": [
      "/var/folders/3r/pzt2_p_x2xdfl2057nxkp3nm0000gn/T/ipykernel_27557/2703198721.py:7: FutureWarning: \n",
      "\n",
      "Passing `palette` without assigning `hue` is deprecated and will be removed in v0.14.0. Assign the `x` variable to `hue` and set `legend=False` for the same effect.\n",
      "\n",
      "  sns.barplot(x=emotions_count.index, y=emotions_count.values,palette='viridis')\n"
     ]
    },
    {
     "data": {
      "text/plain": "<Figure size 900x600 with 1 Axes>",
      "image/png": "[encoded data removed]"
     },
     "metadata": {},
     "output_type": "display_data"
    }
   ],
   "source": [
    "print(\"Possible sentiments are\", np.unique(df_train['emotion']), \"of\", len(np.unique(df_train['emotion'])),\"sentiments\")\n",
    "print(\"The number of posts for training is\", len(df_train))\n",
    "\n",
    "emotions_count = df_train['emotion'].value_counts()\n",
    "\n",
    "plt.figure(figsize=(9, 6))\n",
    "sns.barplot(x=emotions_count.index, y=emotions_count.values,palette='viridis')\n",
    "plt.title('Count of instance for each category')\n",
    "plt.xlabel('Categories')\n",
    "plt.ylabel('Count')\n",
    "plt.xticks(rotation=45, ha='right')\n",
    "plt.show()\n",
    "\n",
    "#split into corpus and target, making target onehot encoded\n",
    "\n",
    "label_encoder = LabelEncoder()\n",
    "\n",
    "corpus_train = df_train['essay']\n",
    "train = label_encoder.fit_transform(df_train['emotion'])\n",
    "target_train = to_categorical(train, num_classes=len(CATEGORIES))\n",
    "\n",
    "corpus_val = df_val['essay']\n",
    "val = label_encoder.fit_transform(df_val['emotion'])\n",
    "target_val = to_categorical(val, num_classes=len(CATEGORIES))\n",
    "\n",
    "corpus_test = df_test['essay']\n",
    "test = label_encoder.fit_transform(df_test['emotion'])\n",
    "target_test = to_categorical(test, num_classes=len(CATEGORIES))"
   ],
   "metadata": {
    "collapsed": false,
    "ExecuteTime": {
     "end_time": "2024-03-02T13:28:49.995199Z",
     "start_time": "2024-03-02T13:28:49.919440Z"
    }
   },
   "id": "5aa4c52b3a69c8e4"
  },
  {
   "cell_type": "code",
   "execution_count": 67,
   "outputs": [
    {
     "name": "stdout",
     "output_type": "stream",
     "text": [
      "(1302, 7)\n"
     ]
    }
   ],
   "source": [
    "print(target_train.shape)"
   ],
   "metadata": {
    "collapsed": false,
    "ExecuteTime": {
     "end_time": "2024-03-02T13:28:54.054912Z",
     "start_time": "2024-03-02T13:28:54.049262Z"
    }
   },
   "id": "8e291808912a7f1b"
  },
  {
   "cell_type": "code",
   "execution_count": 68,
   "outputs": [
    {
     "name": "stdout",
     "output_type": "stream",
     "text": [
      "(1302,)\n"
     ]
    }
   ],
   "source": [
    "print(corpus_train.shape)"
   ],
   "metadata": {
    "collapsed": false,
    "ExecuteTime": {
     "end_time": "2024-03-02T13:28:55.029030Z",
     "start_time": "2024-03-02T13:28:55.025795Z"
    }
   },
   "id": "d89c46a5a8fc3e17"
  },
  {
   "cell_type": "markdown",
   "source": [
    "# Preprocessing"
   ],
   "metadata": {
    "collapsed": false
   },
   "id": "1f7e93c07f08f7e3"
  },
  {
   "cell_type": "markdown",
   "source": [
    "Now we clean up the text to get clean tokens. 1. we only want alphabets and numerics, lowercase 2. tokenization 3. lemmatization 4. remove stop words"
   ],
   "metadata": {
    "collapsed": false
   },
   "id": "199b1ed9f05d10d6"
  },
  {
   "cell_type": "code",
   "execution_count": 69,
   "outputs": [],
   "source": [
    "stop_words = stopwords.words('english')\n",
    "lemmatizer = WordNetLemmatizer()\n",
    "\n",
    "# write a preprocess function\n",
    "def clean_text(text):\n",
    "    cleaned_texts = []\n",
    "    for row in text:\n",
    "        row = re.sub(r'[^A-Za-z0-9 ]', '', row) #keep only alphabets, numbers, and space\n",
    "        row = row.lower() #covert to lower case\n",
    "        tokens = wordpunct_tokenize(row) #tokenize\n",
    "        tokens = [lemmatizer.lemmatize(token) for token in tokens if token not in stop_words] #lemmatize and delete stop words\n",
    "        cleaned_text = ' '.join(tokens)\n",
    "        cleaned_texts.append(cleaned_text)\n",
    "    return cleaned_texts"
   ],
   "metadata": {
    "collapsed": false,
    "ExecuteTime": {
     "end_time": "2024-03-02T13:28:57.533840Z",
     "start_time": "2024-03-02T13:28:57.523200Z"
    }
   },
   "id": "cc4e127ad2f707e9"
  },
  {
   "cell_type": "code",
   "execution_count": 70,
   "outputs": [],
   "source": [
    "x_train = clean_text(corpus_train)\n",
    "y_train = target_train\n",
    "\n",
    "x_val = clean_text(corpus_val)\n",
    "y_val = target_val\n",
    "\n",
    "x_test = clean_text(corpus_test)\n",
    "y_test = target_test"
   ],
   "metadata": {
    "collapsed": false,
    "ExecuteTime": {
     "end_time": "2024-03-02T13:28:59.588204Z",
     "start_time": "2024-03-02T13:28:59.365436Z"
    }
   },
   "id": "9ac4f731cf5130ee"
  },
  {
   "cell_type": "markdown",
   "source": [
    "Now it is a good idea to see the text before preprocessing and after preprocessing. Including the total number of unique tokens and "
   ],
   "metadata": {
    "collapsed": false
   },
   "id": "8566ab4de22657f5"
  },
  {
   "cell_type": "code",
   "execution_count": 34,
   "outputs": [
    {
     "data": {
      "text/plain": "                                       original text  \\\n0  This is a terrible story, but we can't go so f...   \n\n                                   preprocessed text  total tokens  \\\n0  terrible story cant go far blame entire religi...         52165   \n\n   unique tokens  \n0           7453  ",
      "text/html": "<div>\n<style scoped>\n    .dataframe tbody tr th:only-of-type {\n        vertical-align: middle;\n    }\n\n    .dataframe tbody tr th {\n        vertical-align: top;\n    }\n\n    .dataframe thead th {\n        text-align: right;\n    }\n</style>\n<table border=\"1\" class=\"dataframe\">\n  <thead>\n    <tr style=\"text-align: right;\">\n      <th></th>\n      <th>original text</th>\n      <th>preprocessed text</th>\n      <th>total tokens</th>\n      <th>unique tokens</th>\n    </tr>\n  </thead>\n  <tbody>\n    <tr>\n      <th>0</th>\n      <td>This is a terrible story, but we can't go so f...</td>\n      <td>terrible story cant go far blame entire religi...</td>\n      <td>52165</td>\n      <td>7453</td>\n    </tr>\n  </tbody>\n</table>\n</div>"
     },
     "execution_count": 34,
     "metadata": {},
     "output_type": "execute_result"
    }
   ],
   "source": [
    "summary = pd.DataFrame({'original text': [corpus_train[2]],\n",
    "                        'preprocessed text': [x_train[2]]})\n",
    "review_len = [sum(1 for word in review.split()) for review in x_train]\n",
    "tk = [[word for word in review.split()] for review in x_train]\n",
    "tk_flatten = [token for review in tk for token in review]\n",
    "tk_num_unique = len(set(tk_flatten))\n",
    "summary['total tokens'] = np.sum(review_len)\n",
    "summary['unique tokens'] = tk_num_unique\n",
    "summary"
   ],
   "metadata": {
    "collapsed": false,
    "ExecuteTime": {
     "end_time": "2024-03-02T12:49:48.479713Z",
     "start_time": "2024-03-02T12:49:48.462272Z"
    }
   },
   "id": "324efdb1f4e48c87"
  },
  {
   "cell_type": "markdown",
   "source": [
    "#TF-IDF"
   ],
   "metadata": {
    "collapsed": false
   },
   "id": "a66f1a5ed9f18113"
  },
  {
   "cell_type": "code",
   "execution_count": 115,
   "outputs": [],
   "source": [
    "EPOCH = 100\n",
    "BATCHSIZE = 100"
   ],
   "metadata": {
    "collapsed": false,
    "ExecuteTime": {
     "end_time": "2024-03-02T14:04:24.290253Z",
     "start_time": "2024-03-02T14:04:24.262907Z"
    }
   },
   "id": "646330a1d10b29df"
  },
  {
   "cell_type": "code",
   "execution_count": 116,
   "outputs": [],
   "source": [
    "vectorizer = TfidfVectorizer(use_idf=True, max_features=900)\n",
    "tf_idf_train = vectorizer.fit_transform(x_train).toarray()\n",
    "\n",
    "tf_idf_val = vectorizer.transform(x_val).toarray()\n",
    "tf_idf_test = vectorizer.transform(x_test).toarray()"
   ],
   "metadata": {
    "collapsed": false,
    "ExecuteTime": {
     "end_time": "2024-03-02T14:04:28.967157Z",
     "start_time": "2024-03-02T14:04:28.942018Z"
    }
   },
   "id": "bafebd9df60dc430"
  },
  {
   "cell_type": "code",
   "execution_count": 117,
   "outputs": [
    {
     "name": "stdout",
     "output_type": "stream",
     "text": [
      "Epoch 1/100\n",
      "14/14 [==============================] - 0s 5ms/step - loss: 1.9351 - accuracy: 0.2212 - val_loss: 1.9208 - val_accuracy: 0.3262\n",
      "Epoch 2/100\n",
      "14/14 [==============================] - 0s 1ms/step - loss: 1.9027 - accuracy: 0.3694 - val_loss: 1.8950 - val_accuracy: 0.3495\n",
      "Epoch 3/100\n",
      "14/14 [==============================] - 0s 1ms/step - loss: 1.8672 - accuracy: 0.3771 - val_loss: 1.8636 - val_accuracy: 0.3459\n",
      "Epoch 4/100\n",
      "14/14 [==============================] - 0s 1ms/step - loss: 1.8260 - accuracy: 0.3625 - val_loss: 1.8298 - val_accuracy: 0.3441\n",
      "Epoch 5/100\n",
      "14/14 [==============================] - 0s 1ms/step - loss: 1.7842 - accuracy: 0.3594 - val_loss: 1.7958 - val_accuracy: 0.3441\n",
      "Epoch 6/100\n",
      "14/14 [==============================] - 0s 1ms/step - loss: 1.7428 - accuracy: 0.3548 - val_loss: 1.7665 - val_accuracy: 0.3441\n",
      "Epoch 7/100\n",
      "14/14 [==============================] - 0s 1ms/step - loss: 1.7026 - accuracy: 0.3541 - val_loss: 1.7382 - val_accuracy: 0.3441\n",
      "Epoch 8/100\n",
      "14/14 [==============================] - 0s 1ms/step - loss: 1.6668 - accuracy: 0.3556 - val_loss: 1.7150 - val_accuracy: 0.3441\n",
      "Epoch 9/100\n",
      "14/14 [==============================] - 0s 1ms/step - loss: 1.6330 - accuracy: 0.3594 - val_loss: 1.6952 - val_accuracy: 0.3477\n",
      "Epoch 10/100\n",
      "14/14 [==============================] - 0s 1ms/step - loss: 1.6018 - accuracy: 0.3694 - val_loss: 1.6800 - val_accuracy: 0.3477\n",
      "Epoch 11/100\n",
      "14/14 [==============================] - 0s 1ms/step - loss: 1.5739 - accuracy: 0.3810 - val_loss: 1.6664 - val_accuracy: 0.3495\n",
      "Epoch 12/100\n",
      "14/14 [==============================] - 0s 1ms/step - loss: 1.5462 - accuracy: 0.4025 - val_loss: 1.6528 - val_accuracy: 0.3620\n",
      "Epoch 13/100\n",
      "14/14 [==============================] - 0s 1ms/step - loss: 1.5196 - accuracy: 0.4309 - val_loss: 1.6415 - val_accuracy: 0.3728\n",
      "Epoch 14/100\n",
      "14/14 [==============================] - 0s 1ms/step - loss: 1.4919 - accuracy: 0.4585 - val_loss: 1.6306 - val_accuracy: 0.3763\n",
      "Epoch 15/100\n",
      "14/14 [==============================] - 0s 1ms/step - loss: 1.4646 - accuracy: 0.4823 - val_loss: 1.6216 - val_accuracy: 0.3871\n",
      "Epoch 16/100\n",
      "14/14 [==============================] - 0s 1ms/step - loss: 1.4370 - accuracy: 0.4939 - val_loss: 1.6125 - val_accuracy: 0.3978\n",
      "Epoch 17/100\n",
      "14/14 [==============================] - 0s 1ms/step - loss: 1.4103 - accuracy: 0.5061 - val_loss: 1.6026 - val_accuracy: 0.4050\n",
      "Epoch 18/100\n",
      "14/14 [==============================] - 0s 1ms/step - loss: 1.3842 - accuracy: 0.5238 - val_loss: 1.5928 - val_accuracy: 0.4158\n",
      "Epoch 19/100\n",
      "14/14 [==============================] - 0s 1ms/step - loss: 1.3580 - accuracy: 0.5300 - val_loss: 1.5854 - val_accuracy: 0.4158\n",
      "Epoch 20/100\n",
      "14/14 [==============================] - 0s 1ms/step - loss: 1.3320 - accuracy: 0.5338 - val_loss: 1.5780 - val_accuracy: 0.4140\n",
      "Epoch 21/100\n",
      "14/14 [==============================] - 0s 1ms/step - loss: 1.3065 - accuracy: 0.5415 - val_loss: 1.5709 - val_accuracy: 0.4140\n",
      "Epoch 22/100\n",
      "14/14 [==============================] - 0s 1ms/step - loss: 1.2811 - accuracy: 0.5545 - val_loss: 1.5639 - val_accuracy: 0.4247\n",
      "Epoch 23/100\n",
      "14/14 [==============================] - 0s 1ms/step - loss: 1.2577 - accuracy: 0.5553 - val_loss: 1.5601 - val_accuracy: 0.4211\n",
      "Epoch 24/100\n",
      "14/14 [==============================] - 0s 1ms/step - loss: 1.2339 - accuracy: 0.5776 - val_loss: 1.5524 - val_accuracy: 0.4301\n",
      "Epoch 25/100\n",
      "14/14 [==============================] - 0s 1ms/step - loss: 1.2099 - accuracy: 0.5937 - val_loss: 1.5468 - val_accuracy: 0.4319\n",
      "Epoch 26/100\n",
      "14/14 [==============================] - 0s 1ms/step - loss: 1.1870 - accuracy: 0.6114 - val_loss: 1.5414 - val_accuracy: 0.4301\n",
      "Epoch 27/100\n",
      "14/14 [==============================] - 0s 1ms/step - loss: 1.1636 - accuracy: 0.6321 - val_loss: 1.5343 - val_accuracy: 0.4265\n",
      "Epoch 28/100\n",
      "14/14 [==============================] - 0s 1ms/step - loss: 1.1404 - accuracy: 0.6436 - val_loss: 1.5302 - val_accuracy: 0.4337\n",
      "Epoch 29/100\n",
      "14/14 [==============================] - 0s 1ms/step - loss: 1.1178 - accuracy: 0.6444 - val_loss: 1.5263 - val_accuracy: 0.4319\n",
      "Epoch 30/100\n",
      "14/14 [==============================] - 0s 1ms/step - loss: 1.0957 - accuracy: 0.6528 - val_loss: 1.5223 - val_accuracy: 0.4373\n",
      "Epoch 31/100\n",
      "14/14 [==============================] - 0s 1ms/step - loss: 1.0740 - accuracy: 0.6621 - val_loss: 1.5196 - val_accuracy: 0.4373\n",
      "Epoch 32/100\n",
      "14/14 [==============================] - 0s 1ms/step - loss: 1.0530 - accuracy: 0.6912 - val_loss: 1.5173 - val_accuracy: 0.4283\n",
      "Epoch 33/100\n",
      "14/14 [==============================] - 0s 1ms/step - loss: 1.0329 - accuracy: 0.7058 - val_loss: 1.5167 - val_accuracy: 0.4301\n",
      "Epoch 34/100\n",
      "14/14 [==============================] - 0s 1ms/step - loss: 1.0119 - accuracy: 0.7097 - val_loss: 1.5145 - val_accuracy: 0.4337\n",
      "Epoch 35/100\n",
      "14/14 [==============================] - 0s 1ms/step - loss: 0.9917 - accuracy: 0.7127 - val_loss: 1.5108 - val_accuracy: 0.4301\n",
      "Epoch 36/100\n",
      "14/14 [==============================] - 0s 1ms/step - loss: 0.9722 - accuracy: 0.7151 - val_loss: 1.5101 - val_accuracy: 0.4355\n",
      "Epoch 37/100\n",
      "14/14 [==============================] - 0s 1ms/step - loss: 0.9520 - accuracy: 0.7266 - val_loss: 1.5099 - val_accuracy: 0.4301\n",
      "Epoch 38/100\n",
      "14/14 [==============================] - 0s 1ms/step - loss: 0.9332 - accuracy: 0.7412 - val_loss: 1.5079 - val_accuracy: 0.4373\n",
      "Epoch 39/100\n",
      "14/14 [==============================] - 0s 1ms/step - loss: 0.9139 - accuracy: 0.7488 - val_loss: 1.5071 - val_accuracy: 0.4355\n",
      "Epoch 40/100\n",
      "14/14 [==============================] - 0s 1ms/step - loss: 0.8950 - accuracy: 0.7573 - val_loss: 1.5056 - val_accuracy: 0.4337\n",
      "Epoch 41/100\n",
      "14/14 [==============================] - 0s 1ms/step - loss: 0.8765 - accuracy: 0.7642 - val_loss: 1.5067 - val_accuracy: 0.4391\n",
      "Epoch 42/100\n",
      "14/14 [==============================] - 0s 1ms/step - loss: 0.8583 - accuracy: 0.7696 - val_loss: 1.5060 - val_accuracy: 0.4409\n",
      "Epoch 43/100\n",
      "14/14 [==============================] - 0s 1ms/step - loss: 0.8409 - accuracy: 0.7750 - val_loss: 1.5051 - val_accuracy: 0.4391\n",
      "Epoch 44/100\n",
      "14/14 [==============================] - 0s 1ms/step - loss: 0.8244 - accuracy: 0.7719 - val_loss: 1.5078 - val_accuracy: 0.4391\n",
      "Epoch 45/100\n",
      "14/14 [==============================] - 0s 1ms/step - loss: 0.8076 - accuracy: 0.7765 - val_loss: 1.5076 - val_accuracy: 0.4391\n",
      "Epoch 46/100\n",
      "14/14 [==============================] - 0s 1ms/step - loss: 0.7913 - accuracy: 0.7857 - val_loss: 1.5079 - val_accuracy: 0.4373\n",
      "Epoch 47/100\n",
      "14/14 [==============================] - 0s 1ms/step - loss: 0.7744 - accuracy: 0.7988 - val_loss: 1.5076 - val_accuracy: 0.4409\n",
      "Epoch 48/100\n",
      "14/14 [==============================] - 0s 1ms/step - loss: 0.7597 - accuracy: 0.8034 - val_loss: 1.5116 - val_accuracy: 0.4462\n",
      "Epoch 49/100\n",
      "14/14 [==============================] - 0s 1ms/step - loss: 0.7436 - accuracy: 0.8072 - val_loss: 1.5112 - val_accuracy: 0.4409\n",
      "Epoch 50/100\n",
      "14/14 [==============================] - 0s 1ms/step - loss: 0.7277 - accuracy: 0.8187 - val_loss: 1.5138 - val_accuracy: 0.4409\n",
      "Epoch 51/100\n",
      "14/14 [==============================] - 0s 2ms/step - loss: 0.7130 - accuracy: 0.8218 - val_loss: 1.5172 - val_accuracy: 0.4391\n",
      "Epoch 52/100\n",
      "14/14 [==============================] - 0s 1ms/step - loss: 0.6988 - accuracy: 0.8310 - val_loss: 1.5173 - val_accuracy: 0.4373\n",
      "Epoch 53/100\n",
      "14/14 [==============================] - 0s 1ms/step - loss: 0.6840 - accuracy: 0.8433 - val_loss: 1.5178 - val_accuracy: 0.4427\n",
      "Epoch 54/100\n",
      "14/14 [==============================] - 0s 1ms/step - loss: 0.6703 - accuracy: 0.8441 - val_loss: 1.5206 - val_accuracy: 0.4427\n",
      "Epoch 55/100\n",
      "14/14 [==============================] - 0s 1ms/step - loss: 0.6569 - accuracy: 0.8487 - val_loss: 1.5217 - val_accuracy: 0.4391\n",
      "Epoch 56/100\n",
      "14/14 [==============================] - 0s 1ms/step - loss: 0.6431 - accuracy: 0.8548 - val_loss: 1.5255 - val_accuracy: 0.4516\n",
      "Epoch 57/100\n",
      "14/14 [==============================] - 0s 1ms/step - loss: 0.6300 - accuracy: 0.8610 - val_loss: 1.5297 - val_accuracy: 0.4462\n",
      "Epoch 58/100\n",
      "14/14 [==============================] - 0s 1ms/step - loss: 0.6171 - accuracy: 0.8656 - val_loss: 1.5339 - val_accuracy: 0.4462\n",
      "Epoch 59/100\n",
      "14/14 [==============================] - 0s 1ms/step - loss: 0.6049 - accuracy: 0.8748 - val_loss: 1.5392 - val_accuracy: 0.4480\n",
      "Epoch 60/100\n",
      "14/14 [==============================] - 0s 1ms/step - loss: 0.5918 - accuracy: 0.8810 - val_loss: 1.5368 - val_accuracy: 0.4498\n",
      "Epoch 61/100\n",
      "14/14 [==============================] - 0s 1ms/step - loss: 0.5794 - accuracy: 0.8848 - val_loss: 1.5393 - val_accuracy: 0.4480\n",
      "Epoch 62/100\n",
      "14/14 [==============================] - 0s 1ms/step - loss: 0.5674 - accuracy: 0.8879 - val_loss: 1.5439 - val_accuracy: 0.4462\n",
      "Epoch 63/100\n",
      "14/14 [==============================] - 0s 1ms/step - loss: 0.5560 - accuracy: 0.8963 - val_loss: 1.5472 - val_accuracy: 0.4534\n",
      "Epoch 64/100\n",
      "14/14 [==============================] - 0s 1ms/step - loss: 0.5449 - accuracy: 0.9025 - val_loss: 1.5526 - val_accuracy: 0.4498\n",
      "Epoch 65/100\n",
      "14/14 [==============================] - 0s 1ms/step - loss: 0.5338 - accuracy: 0.9009 - val_loss: 1.5554 - val_accuracy: 0.4498\n",
      "Epoch 66/100\n",
      "14/14 [==============================] - 0s 1ms/step - loss: 0.5232 - accuracy: 0.9109 - val_loss: 1.5539 - val_accuracy: 0.4480\n",
      "Epoch 67/100\n",
      "14/14 [==============================] - 0s 1ms/step - loss: 0.5127 - accuracy: 0.9147 - val_loss: 1.5568 - val_accuracy: 0.4480\n",
      "Epoch 68/100\n",
      "14/14 [==============================] - 0s 1ms/step - loss: 0.5023 - accuracy: 0.9194 - val_loss: 1.5623 - val_accuracy: 0.4480\n",
      "Epoch 69/100\n",
      "14/14 [==============================] - 0s 1ms/step - loss: 0.4923 - accuracy: 0.9232 - val_loss: 1.5677 - val_accuracy: 0.4444\n",
      "Epoch 70/100\n",
      "14/14 [==============================] - 0s 1ms/step - loss: 0.4827 - accuracy: 0.9255 - val_loss: 1.5717 - val_accuracy: 0.4534\n",
      "Epoch 71/100\n",
      "14/14 [==============================] - 0s 1ms/step - loss: 0.4728 - accuracy: 0.9309 - val_loss: 1.5771 - val_accuracy: 0.4552\n",
      "Epoch 72/100\n",
      "14/14 [==============================] - 0s 2ms/step - loss: 0.4641 - accuracy: 0.9301 - val_loss: 1.5818 - val_accuracy: 0.4588\n",
      "Epoch 73/100\n",
      "14/14 [==============================] - 0s 2ms/step - loss: 0.4542 - accuracy: 0.9301 - val_loss: 1.5876 - val_accuracy: 0.4444\n",
      "Epoch 74/100\n",
      "14/14 [==============================] - 0s 1ms/step - loss: 0.4448 - accuracy: 0.9332 - val_loss: 1.5908 - val_accuracy: 0.4516\n",
      "Epoch 75/100\n",
      "14/14 [==============================] - 0s 1ms/step - loss: 0.4365 - accuracy: 0.9439 - val_loss: 1.5965 - val_accuracy: 0.4534\n",
      "Epoch 76/100\n",
      "14/14 [==============================] - 0s 1ms/step - loss: 0.4276 - accuracy: 0.9470 - val_loss: 1.6013 - val_accuracy: 0.4552\n",
      "Epoch 77/100\n",
      "14/14 [==============================] - 0s 1ms/step - loss: 0.4189 - accuracy: 0.9493 - val_loss: 1.6062 - val_accuracy: 0.4552\n",
      "Epoch 78/100\n",
      "14/14 [==============================] - 0s 1ms/step - loss: 0.4108 - accuracy: 0.9508 - val_loss: 1.6105 - val_accuracy: 0.4498\n",
      "Epoch 79/100\n",
      "14/14 [==============================] - 0s 1ms/step - loss: 0.4025 - accuracy: 0.9547 - val_loss: 1.6142 - val_accuracy: 0.4462\n",
      "Epoch 80/100\n",
      "14/14 [==============================] - 0s 1ms/step - loss: 0.3947 - accuracy: 0.9539 - val_loss: 1.6191 - val_accuracy: 0.4427\n",
      "Epoch 81/100\n",
      "14/14 [==============================] - 0s 1ms/step - loss: 0.3864 - accuracy: 0.9570 - val_loss: 1.6211 - val_accuracy: 0.4444\n",
      "Epoch 82/100\n",
      "14/14 [==============================] - 0s 1ms/step - loss: 0.3790 - accuracy: 0.9601 - val_loss: 1.6238 - val_accuracy: 0.4480\n",
      "Epoch 83/100\n",
      "14/14 [==============================] - 0s 1ms/step - loss: 0.3715 - accuracy: 0.9631 - val_loss: 1.6293 - val_accuracy: 0.4444\n",
      "Epoch 84/100\n",
      "14/14 [==============================] - 0s 1ms/step - loss: 0.3639 - accuracy: 0.9624 - val_loss: 1.6343 - val_accuracy: 0.4409\n",
      "Epoch 85/100\n",
      "14/14 [==============================] - 0s 1ms/step - loss: 0.3574 - accuracy: 0.9616 - val_loss: 1.6394 - val_accuracy: 0.4444\n",
      "Epoch 86/100\n",
      "14/14 [==============================] - 0s 1ms/step - loss: 0.3502 - accuracy: 0.9647 - val_loss: 1.6428 - val_accuracy: 0.4462\n",
      "Epoch 87/100\n",
      "14/14 [==============================] - 0s 1ms/step - loss: 0.3440 - accuracy: 0.9670 - val_loss: 1.6493 - val_accuracy: 0.4444\n",
      "Epoch 88/100\n",
      "14/14 [==============================] - 0s 1ms/step - loss: 0.3375 - accuracy: 0.9693 - val_loss: 1.6566 - val_accuracy: 0.4444\n",
      "Epoch 89/100\n",
      "14/14 [==============================] - 0s 1ms/step - loss: 0.3305 - accuracy: 0.9693 - val_loss: 1.6613 - val_accuracy: 0.4427\n",
      "Epoch 90/100\n",
      "14/14 [==============================] - 0s 1ms/step - loss: 0.3239 - accuracy: 0.9708 - val_loss: 1.6656 - val_accuracy: 0.4444\n",
      "Epoch 91/100\n",
      "14/14 [==============================] - 0s 1ms/step - loss: 0.3172 - accuracy: 0.9747 - val_loss: 1.6718 - val_accuracy: 0.4462\n",
      "Epoch 92/100\n",
      "14/14 [==============================] - 0s 1ms/step - loss: 0.3112 - accuracy: 0.9770 - val_loss: 1.6775 - val_accuracy: 0.4462\n",
      "Epoch 93/100\n",
      "14/14 [==============================] - 0s 1ms/step - loss: 0.3054 - accuracy: 0.9793 - val_loss: 1.6810 - val_accuracy: 0.4462\n",
      "Epoch 94/100\n",
      "14/14 [==============================] - 0s 1ms/step - loss: 0.2994 - accuracy: 0.9793 - val_loss: 1.6881 - val_accuracy: 0.4427\n",
      "Epoch 95/100\n",
      "14/14 [==============================] - 0s 1ms/step - loss: 0.2936 - accuracy: 0.9808 - val_loss: 1.6934 - val_accuracy: 0.4427\n",
      "Epoch 96/100\n",
      "14/14 [==============================] - 0s 1ms/step - loss: 0.2881 - accuracy: 0.9808 - val_loss: 1.6991 - val_accuracy: 0.4427\n",
      "Epoch 97/100\n",
      "14/14 [==============================] - 0s 1ms/step - loss: 0.2823 - accuracy: 0.9808 - val_loss: 1.7049 - val_accuracy: 0.4480\n",
      "Epoch 98/100\n",
      "14/14 [==============================] - 0s 1ms/step - loss: 0.2770 - accuracy: 0.9823 - val_loss: 1.7101 - val_accuracy: 0.4480\n",
      "Epoch 99/100\n",
      "14/14 [==============================] - 0s 1ms/step - loss: 0.2722 - accuracy: 0.9846 - val_loss: 1.7112 - val_accuracy: 0.4516\n",
      "Epoch 100/100\n",
      "14/14 [==============================] - 0s 1ms/step - loss: 0.2674 - accuracy: 0.9862 - val_loss: 1.7173 - val_accuracy: 0.4516\n"
     ]
    }
   ],
   "source": [
    "#model: og\n",
    "\n",
    "model_og = Sequential()\n",
    "model_og.add(Dense(20, activation='relu', input_shape=(tf_idf_train.shape[1],)))\n",
    "model_og.add(Dense(7, activation='softmax'))\n",
    "\n",
    "model_og.compile(loss = 'categorical_crossentropy', optimizer = 'Adam', metrics = ['accuracy'])\n",
    "history_og = model_og.fit(tf_idf_train, y_train, epochs=EPOCH, batch_size=BATCHSIZE, validation_data=(tf_idf_val, y_val))"
   ],
   "metadata": {
    "collapsed": false,
    "ExecuteTime": {
     "end_time": "2024-03-02T14:04:32.718008Z",
     "start_time": "2024-03-02T14:04:30.597623Z"
    }
   },
   "id": "55cb60580bc01288"
  },
  {
   "cell_type": "code",
   "execution_count": 118,
   "outputs": [
    {
     "name": "stdout",
     "output_type": "stream",
     "text": [
      "9/9 [==============================] - 0s 484us/step\n",
      "\n",
      "Classification Report:\n",
      "              precision    recall  f1-score   support\n",
      "\n",
      "           0       0.56      0.39      0.46        76\n",
      "           1       0.00      0.00      0.00        12\n",
      "           2       0.63      0.61      0.62        31\n",
      "           3       0.00      0.00      0.00        14\n",
      "           4       0.22      0.32      0.26        25\n",
      "           5       0.56      0.73      0.64        98\n",
      "           6       0.29      0.14      0.19        14\n",
      "\n",
      "    accuracy                           0.49       270\n",
      "   macro avg       0.32      0.32      0.31       270\n",
      "weighted avg       0.47      0.49      0.47       270\n"
     ]
    }
   ],
   "source": [
    "model_og.save(MODEL_LOCATION+'tfidf_og.h5')\n",
    "y_pred = model_og.predict(tf_idf_test)\n",
    "y_pred_labels = np.argmax(y_pred, axis=1)\n",
    "y_true_labels = np.argmax(y_test, axis=1)\n",
    "conf_matrix = confusion_matrix(y_true_labels, y_pred_labels)\n",
    "\n",
    "#print classification report\n",
    "print(\"\\nClassification Report:\")\n",
    "print(classification_report(y_true_labels, y_pred_labels))"
   ],
   "metadata": {
    "collapsed": false,
    "ExecuteTime": {
     "end_time": "2024-03-02T14:05:05.103225Z",
     "start_time": "2024-03-02T14:05:05.047074Z"
    }
   },
   "id": "b20e2e03e6ca2f16"
  },
  {
   "cell_type": "code",
   "execution_count": 119,
   "outputs": [],
   "source": [
    "def confusionPlot(matrix, normailize=True, title='Confusion Matrix', cmap='Blues'):\n",
    "    if normailize:\n",
    "        matrix = matrix.astype('float')/matrix.sum(axis=1)[:,np.newaxis]\n",
    "    plt.figure(figsize=(9,7))\n",
    "    sns.heatmap(matrix, annot=True, fmt='.2f' if normailize else 'd', cmap=cmap, xticklabels=CATEGORIES.keys(), yticklabels=CATEGORIES.keys())\n",
    "    plt.title(title)\n",
    "    plt.xlabel('Predicted Label')\n",
    "    plt.ylabel('True Label')\n",
    "    plt.show()"
   ],
   "metadata": {
    "collapsed": false,
    "ExecuteTime": {
     "end_time": "2024-03-02T14:05:17.682567Z",
     "start_time": "2024-03-02T14:05:17.679123Z"
    }
   },
   "id": "dce012042a63e1b"
  },
  {
   "cell_type": "code",
   "execution_count": 120,
   "outputs": [
    {
     "data": {
      "text/plain": "<Figure size 900x700 with 2 Axes>",
      "image/png": "[encoded data removed]"
     },
     "metadata": {},
     "output_type": "display_data"
    }
   ],
   "source": [
    "confusionPlot(conf_matrix)"
   ],
   "metadata": {
    "collapsed": false,
    "ExecuteTime": {
     "end_time": "2024-03-02T14:05:19.033008Z",
     "start_time": "2024-03-02T14:05:18.923172Z"
    }
   },
   "id": "4880465eeb75283c"
  },
  {
   "cell_type": "markdown",
   "source": [
    "Under represented categories of emotions do not do well. Therefore, we try to over sample the under represented categories. Data augmentation should be done on raw data. "
   ],
   "metadata": {
    "collapsed": false
   },
   "id": "8ba6fdc772e7ef99"
  },
  {
   "cell_type": "code",
   "execution_count": 122,
   "outputs": [],
   "source": [
    "under_represented_classes=[0,1,2,3,4,6] #every category except for sadness\n",
    "mask_classes = np.isin(train, under_represented_classes)\n",
    "\n",
    "#resample corpus_train, train with random oversampler\n",
    "oversampler = RandomOverSampler(sampling_strategy='auto', random_state=RANDOM_SEED)\n",
    "corpus_train_2d = corpus_train.values.reshape(-1, 1)\n",
    "train_2d = train.reshape(-1,1)\n",
    "x_oversampled, y_oversampled = oversampler.fit_resample(corpus_train_2d[mask_classes].reshape(-1, 1), train_2d[mask_classes])\n",
    "\n",
    "x_train_oversampled = np.concatenate([corpus_train.values[mask_classes], x_oversampled.flatten()])\n",
    "y_train_oversampled = np.concatenate([train[mask_classes], y_oversampled])"
   ],
   "metadata": {
    "collapsed": false,
    "ExecuteTime": {
     "end_time": "2024-03-02T14:05:29.256845Z",
     "start_time": "2024-03-02T14:05:29.248389Z"
    }
   },
   "id": "7e6cff633af4d515"
  },
  {
   "cell_type": "markdown",
   "source": [
    "prep the data. "
   ],
   "metadata": {
    "collapsed": false
   },
   "id": "d468ca456a7fae0a"
  },
  {
   "cell_type": "code",
   "execution_count": 124,
   "outputs": [],
   "source": [
    "x_train_over = clean_text(x_train_oversampled)\n",
    "y_train_over = to_categorical(y_train_oversampled, num_classes=len(CATEGORIES))"
   ],
   "metadata": {
    "collapsed": false,
    "ExecuteTime": {
     "end_time": "2024-03-02T14:05:44.933947Z",
     "start_time": "2024-03-02T14:05:44.668719Z"
    }
   },
   "id": "ca72dbceea6d4b83"
  },
  {
   "cell_type": "code",
   "execution_count": 125,
   "outputs": [
    {
     "name": "stdout",
     "output_type": "stream",
     "text": [
      "[[1. 0. 0. ... 0. 0. 0.]\n",
      " [1. 0. 0. ... 0. 0. 0.]\n",
      " [0. 0. 0. ... 0. 1. 0.]\n",
      " ...\n",
      " [0. 0. 0. ... 1. 0. 0.]\n",
      " [0. 0. 0. ... 0. 1. 0.]\n",
      " [1. 0. 0. ... 0. 0. 0.]]\n",
      "[[1. 0. 0. ... 0. 0. 0.]\n",
      " [1. 0. 0. ... 0. 0. 0.]\n",
      " [0. 0. 0. ... 0. 0. 1.]\n",
      " ...\n",
      " [0. 0. 0. ... 0. 0. 1.]\n",
      " [0. 0. 0. ... 0. 0. 1.]\n",
      " [0. 0. 0. ... 0. 0. 1.]]\n"
     ]
    }
   ],
   "source": [
    "print(y_train)\n",
    "print(y_train_over)"
   ],
   "metadata": {
    "collapsed": false,
    "ExecuteTime": {
     "end_time": "2024-03-02T14:05:45.255971Z",
     "start_time": "2024-03-02T14:05:45.252452Z"
    }
   },
   "id": "696d9fa12b4a729a"
  },
  {
   "cell_type": "markdown",
   "source": [
    "Redo TFIDF"
   ],
   "metadata": {
    "collapsed": false
   },
   "id": "ce6a07ee4aea5f69"
  },
  {
   "cell_type": "code",
   "execution_count": 126,
   "outputs": [],
   "source": [
    "tf_idf_train_over = vectorizer.fit_transform(x_train_over).toarray()\n",
    "\n",
    "tf_idf_val_over = vectorizer.transform(x_val).toarray()\n",
    "tf_idf_test_over = vectorizer.transform(x_test).toarray()"
   ],
   "metadata": {
    "collapsed": false,
    "ExecuteTime": {
     "end_time": "2024-03-02T14:05:48.850981Z",
     "start_time": "2024-03-02T14:05:48.823463Z"
    }
   },
   "id": "a653c324c0d5d1b7"
  },
  {
   "cell_type": "markdown",
   "source": [
    "Train a new model with the augmented data."
   ],
   "metadata": {
    "collapsed": false
   },
   "id": "6c95ecbdaf001608"
  },
  {
   "cell_type": "code",
   "execution_count": 127,
   "outputs": [
    {
     "name": "stdout",
     "output_type": "stream",
     "text": [
      "Epoch 1/100\n",
      "23/23 [==============================] - 0s 3ms/step - loss: 1.9289 - accuracy: 0.2208 - val_loss: 1.9517 - val_accuracy: 0.2043\n",
      "Epoch 2/100\n",
      "23/23 [==============================] - 0s 1ms/step - loss: 1.8783 - accuracy: 0.2306 - val_loss: 1.9654 - val_accuracy: 0.2079\n",
      "Epoch 3/100\n",
      "23/23 [==============================] - 0s 1ms/step - loss: 1.8172 - accuracy: 0.2257 - val_loss: 1.9909 - val_accuracy: 0.2115\n",
      "Epoch 4/100\n",
      "23/23 [==============================] - 0s 1ms/step - loss: 1.7449 - accuracy: 0.2550 - val_loss: 2.0258 - val_accuracy: 0.2168\n",
      "Epoch 5/100\n",
      "23/23 [==============================] - 0s 980us/step - loss: 1.6645 - accuracy: 0.3083 - val_loss: 2.0661 - val_accuracy: 0.2312\n",
      "Epoch 6/100\n",
      "23/23 [==============================] - 0s 1ms/step - loss: 1.5778 - accuracy: 0.4314 - val_loss: 2.1092 - val_accuracy: 0.2509\n",
      "Epoch 7/100\n",
      "23/23 [==============================] - 0s 1ms/step - loss: 1.4840 - accuracy: 0.6042 - val_loss: 2.1541 - val_accuracy: 0.2688\n",
      "Epoch 8/100\n",
      "23/23 [==============================] - 0s 1ms/step - loss: 1.3861 - accuracy: 0.6921 - val_loss: 2.2027 - val_accuracy: 0.2706\n",
      "Epoch 9/100\n",
      "23/23 [==============================] - 0s 1ms/step - loss: 1.2881 - accuracy: 0.7708 - val_loss: 2.2536 - val_accuracy: 0.2778\n",
      "Epoch 10/100\n",
      "23/23 [==============================] - 0s 1ms/step - loss: 1.1918 - accuracy: 0.8183 - val_loss: 2.3080 - val_accuracy: 0.2832\n",
      "Epoch 11/100\n",
      "23/23 [==============================] - 0s 1ms/step - loss: 1.0988 - accuracy: 0.8441 - val_loss: 2.3628 - val_accuracy: 0.2849\n",
      "Epoch 12/100\n",
      "23/23 [==============================] - 0s 1ms/step - loss: 1.0116 - accuracy: 0.8703 - val_loss: 2.4180 - val_accuracy: 0.2778\n",
      "Epoch 13/100\n",
      "23/23 [==============================] - 0s 1ms/step - loss: 0.9300 - accuracy: 0.8801 - val_loss: 2.4721 - val_accuracy: 0.2778\n",
      "Epoch 14/100\n",
      "23/23 [==============================] - 0s 1ms/step - loss: 0.8545 - accuracy: 0.8898 - val_loss: 2.5229 - val_accuracy: 0.2867\n",
      "Epoch 15/100\n",
      "23/23 [==============================] - 0s 1ms/step - loss: 0.7859 - accuracy: 0.9072 - val_loss: 2.5763 - val_accuracy: 0.2921\n",
      "Epoch 16/100\n",
      "23/23 [==============================] - 0s 1ms/step - loss: 0.7224 - accuracy: 0.9160 - val_loss: 2.6286 - val_accuracy: 0.2939\n",
      "Epoch 17/100\n",
      "23/23 [==============================] - 0s 1ms/step - loss: 0.6648 - accuracy: 0.9218 - val_loss: 2.6789 - val_accuracy: 0.2993\n",
      "Epoch 18/100\n",
      "23/23 [==============================] - 0s 981us/step - loss: 0.6125 - accuracy: 0.9307 - val_loss: 2.7286 - val_accuracy: 0.2921\n",
      "Epoch 19/100\n",
      "23/23 [==============================] - 0s 1ms/step - loss: 0.5650 - accuracy: 0.9347 - val_loss: 2.7747 - val_accuracy: 0.2957\n",
      "Epoch 20/100\n",
      "23/23 [==============================] - 0s 1ms/step - loss: 0.5215 - accuracy: 0.9400 - val_loss: 2.8226 - val_accuracy: 0.2939\n",
      "Epoch 21/100\n",
      "23/23 [==============================] - 0s 1ms/step - loss: 0.4818 - accuracy: 0.9445 - val_loss: 2.8680 - val_accuracy: 0.2921\n",
      "Epoch 22/100\n",
      "23/23 [==============================] - 0s 1ms/step - loss: 0.4460 - accuracy: 0.9485 - val_loss: 2.9111 - val_accuracy: 0.2939\n",
      "Epoch 23/100\n",
      "23/23 [==============================] - 0s 1ms/step - loss: 0.4127 - accuracy: 0.9587 - val_loss: 2.9549 - val_accuracy: 0.2993\n",
      "Epoch 24/100\n",
      "23/23 [==============================] - 0s 1ms/step - loss: 0.3825 - accuracy: 0.9667 - val_loss: 2.9972 - val_accuracy: 0.2975\n",
      "Epoch 25/100\n",
      "23/23 [==============================] - 0s 1ms/step - loss: 0.3548 - accuracy: 0.9698 - val_loss: 3.0388 - val_accuracy: 0.2957\n",
      "Epoch 26/100\n",
      "23/23 [==============================] - 0s 1ms/step - loss: 0.3295 - accuracy: 0.9720 - val_loss: 3.0807 - val_accuracy: 0.2975\n",
      "Epoch 27/100\n",
      "23/23 [==============================] - 0s 1ms/step - loss: 0.3063 - accuracy: 0.9778 - val_loss: 3.1192 - val_accuracy: 0.2975\n",
      "Epoch 28/100\n",
      "23/23 [==============================] - 0s 1ms/step - loss: 0.2849 - accuracy: 0.9809 - val_loss: 3.1574 - val_accuracy: 0.3029\n",
      "Epoch 29/100\n",
      "23/23 [==============================] - 0s 1ms/step - loss: 0.2653 - accuracy: 0.9827 - val_loss: 3.1958 - val_accuracy: 0.3029\n",
      "Epoch 30/100\n",
      "23/23 [==============================] - 0s 989us/step - loss: 0.2473 - accuracy: 0.9858 - val_loss: 3.2330 - val_accuracy: 0.2993\n",
      "Epoch 31/100\n",
      "23/23 [==============================] - 0s 1ms/step - loss: 0.2304 - accuracy: 0.9871 - val_loss: 3.2697 - val_accuracy: 0.2957\n",
      "Epoch 32/100\n",
      "23/23 [==============================] - 0s 1ms/step - loss: 0.2152 - accuracy: 0.9893 - val_loss: 3.3071 - val_accuracy: 0.2975\n",
      "Epoch 33/100\n",
      "23/23 [==============================] - 0s 1000us/step - loss: 0.2010 - accuracy: 0.9911 - val_loss: 3.3403 - val_accuracy: 0.2975\n",
      "Epoch 34/100\n",
      "23/23 [==============================] - 0s 994us/step - loss: 0.1879 - accuracy: 0.9924 - val_loss: 3.3765 - val_accuracy: 0.2975\n",
      "Epoch 35/100\n",
      "23/23 [==============================] - 0s 974us/step - loss: 0.1759 - accuracy: 0.9942 - val_loss: 3.4098 - val_accuracy: 0.2957\n",
      "Epoch 36/100\n",
      "23/23 [==============================] - 0s 986us/step - loss: 0.1650 - accuracy: 0.9956 - val_loss: 3.4425 - val_accuracy: 0.2975\n",
      "Epoch 37/100\n",
      "23/23 [==============================] - 0s 1ms/step - loss: 0.1547 - accuracy: 0.9969 - val_loss: 3.4755 - val_accuracy: 0.2975\n",
      "Epoch 38/100\n",
      "23/23 [==============================] - 0s 990us/step - loss: 0.1449 - accuracy: 0.9991 - val_loss: 3.5057 - val_accuracy: 0.2939\n",
      "Epoch 39/100\n",
      "23/23 [==============================] - 0s 1ms/step - loss: 0.1362 - accuracy: 0.9991 - val_loss: 3.5370 - val_accuracy: 0.2939\n",
      "Epoch 40/100\n",
      "23/23 [==============================] - 0s 985us/step - loss: 0.1282 - accuracy: 1.0000 - val_loss: 3.5677 - val_accuracy: 0.2921\n",
      "Epoch 41/100\n",
      "23/23 [==============================] - 0s 1ms/step - loss: 0.1207 - accuracy: 1.0000 - val_loss: 3.5989 - val_accuracy: 0.2903\n",
      "Epoch 42/100\n",
      "23/23 [==============================] - 0s 1ms/step - loss: 0.1137 - accuracy: 1.0000 - val_loss: 3.6282 - val_accuracy: 0.2903\n",
      "Epoch 43/100\n",
      "23/23 [==============================] - 0s 986us/step - loss: 0.1072 - accuracy: 1.0000 - val_loss: 3.6577 - val_accuracy: 0.2903\n",
      "Epoch 44/100\n",
      "23/23 [==============================] - 0s 1ms/step - loss: 0.1012 - accuracy: 1.0000 - val_loss: 3.6855 - val_accuracy: 0.2885\n",
      "Epoch 45/100\n",
      "23/23 [==============================] - 0s 1ms/step - loss: 0.0957 - accuracy: 1.0000 - val_loss: 3.7142 - val_accuracy: 0.2885\n",
      "Epoch 46/100\n",
      "23/23 [==============================] - 0s 1ms/step - loss: 0.0906 - accuracy: 1.0000 - val_loss: 3.7409 - val_accuracy: 0.2903\n",
      "Epoch 47/100\n",
      "23/23 [==============================] - 0s 989us/step - loss: 0.0858 - accuracy: 1.0000 - val_loss: 3.7683 - val_accuracy: 0.2903\n",
      "Epoch 48/100\n",
      "23/23 [==============================] - 0s 987us/step - loss: 0.0812 - accuracy: 1.0000 - val_loss: 3.7956 - val_accuracy: 0.2903\n",
      "Epoch 49/100\n",
      "23/23 [==============================] - 0s 1ms/step - loss: 0.0771 - accuracy: 1.0000 - val_loss: 3.8211 - val_accuracy: 0.2867\n",
      "Epoch 50/100\n",
      "23/23 [==============================] - 0s 1ms/step - loss: 0.0732 - accuracy: 1.0000 - val_loss: 3.8481 - val_accuracy: 0.2867\n",
      "Epoch 51/100\n",
      "23/23 [==============================] - 0s 1ms/step - loss: 0.0696 - accuracy: 1.0000 - val_loss: 3.8725 - val_accuracy: 0.2903\n",
      "Epoch 52/100\n",
      "23/23 [==============================] - 0s 1ms/step - loss: 0.0662 - accuracy: 1.0000 - val_loss: 3.8975 - val_accuracy: 0.2867\n",
      "Epoch 53/100\n",
      "23/23 [==============================] - 0s 1ms/step - loss: 0.0630 - accuracy: 1.0000 - val_loss: 3.9221 - val_accuracy: 0.2867\n",
      "Epoch 54/100\n",
      "23/23 [==============================] - 0s 1ms/step - loss: 0.0600 - accuracy: 1.0000 - val_loss: 3.9456 - val_accuracy: 0.2867\n",
      "Epoch 55/100\n",
      "23/23 [==============================] - 0s 1ms/step - loss: 0.0573 - accuracy: 1.0000 - val_loss: 3.9698 - val_accuracy: 0.2867\n",
      "Epoch 56/100\n",
      "23/23 [==============================] - 0s 1ms/step - loss: 0.0547 - accuracy: 1.0000 - val_loss: 3.9938 - val_accuracy: 0.2849\n",
      "Epoch 57/100\n",
      "23/23 [==============================] - 0s 1ms/step - loss: 0.0523 - accuracy: 1.0000 - val_loss: 4.0152 - val_accuracy: 0.2849\n",
      "Epoch 58/100\n",
      "23/23 [==============================] - 0s 1ms/step - loss: 0.0500 - accuracy: 1.0000 - val_loss: 4.0380 - val_accuracy: 0.2849\n",
      "Epoch 59/100\n",
      "23/23 [==============================] - 0s 1ms/step - loss: 0.0478 - accuracy: 1.0000 - val_loss: 4.0598 - val_accuracy: 0.2849\n",
      "Epoch 60/100\n",
      "23/23 [==============================] - 0s 1ms/step - loss: 0.0458 - accuracy: 1.0000 - val_loss: 4.0823 - val_accuracy: 0.2849\n",
      "Epoch 61/100\n",
      "23/23 [==============================] - 0s 1ms/step - loss: 0.0439 - accuracy: 1.0000 - val_loss: 4.1026 - val_accuracy: 0.2849\n",
      "Epoch 62/100\n",
      "23/23 [==============================] - 0s 1ms/step - loss: 0.0420 - accuracy: 1.0000 - val_loss: 4.1243 - val_accuracy: 0.2849\n",
      "Epoch 63/100\n",
      "23/23 [==============================] - 0s 1ms/step - loss: 0.0403 - accuracy: 1.0000 - val_loss: 4.1452 - val_accuracy: 0.2814\n",
      "Epoch 64/100\n",
      "23/23 [==============================] - 0s 1ms/step - loss: 0.0387 - accuracy: 1.0000 - val_loss: 4.1658 - val_accuracy: 0.2832\n",
      "Epoch 65/100\n",
      "23/23 [==============================] - 0s 1ms/step - loss: 0.0372 - accuracy: 1.0000 - val_loss: 4.1855 - val_accuracy: 0.2814\n",
      "Epoch 66/100\n",
      "23/23 [==============================] - 0s 997us/step - loss: 0.0358 - accuracy: 1.0000 - val_loss: 4.2058 - val_accuracy: 0.2814\n",
      "Epoch 67/100\n",
      "23/23 [==============================] - 0s 1ms/step - loss: 0.0344 - accuracy: 1.0000 - val_loss: 4.2252 - val_accuracy: 0.2814\n",
      "Epoch 68/100\n",
      "23/23 [==============================] - 0s 1ms/step - loss: 0.0331 - accuracy: 1.0000 - val_loss: 4.2431 - val_accuracy: 0.2814\n",
      "Epoch 69/100\n",
      "23/23 [==============================] - 0s 1ms/step - loss: 0.0319 - accuracy: 1.0000 - val_loss: 4.2632 - val_accuracy: 0.2796\n",
      "Epoch 70/100\n",
      "23/23 [==============================] - 0s 1ms/step - loss: 0.0307 - accuracy: 1.0000 - val_loss: 4.2817 - val_accuracy: 0.2814\n",
      "Epoch 71/100\n",
      "23/23 [==============================] - 0s 1ms/step - loss: 0.0296 - accuracy: 1.0000 - val_loss: 4.2998 - val_accuracy: 0.2814\n",
      "Epoch 72/100\n",
      "23/23 [==============================] - 0s 991us/step - loss: 0.0285 - accuracy: 1.0000 - val_loss: 4.3184 - val_accuracy: 0.2814\n",
      "Epoch 73/100\n",
      "23/23 [==============================] - 0s 996us/step - loss: 0.0275 - accuracy: 1.0000 - val_loss: 4.3359 - val_accuracy: 0.2814\n",
      "Epoch 74/100\n",
      "23/23 [==============================] - 0s 965us/step - loss: 0.0266 - accuracy: 1.0000 - val_loss: 4.3536 - val_accuracy: 0.2814\n",
      "Epoch 75/100\n",
      "23/23 [==============================] - 0s 1ms/step - loss: 0.0257 - accuracy: 1.0000 - val_loss: 4.3714 - val_accuracy: 0.2796\n",
      "Epoch 76/100\n",
      "23/23 [==============================] - 0s 992us/step - loss: 0.0248 - accuracy: 1.0000 - val_loss: 4.3887 - val_accuracy: 0.2778\n",
      "Epoch 77/100\n",
      "23/23 [==============================] - 0s 1ms/step - loss: 0.0240 - accuracy: 1.0000 - val_loss: 4.4060 - val_accuracy: 0.2778\n",
      "Epoch 78/100\n",
      "23/23 [==============================] - 0s 1ms/step - loss: 0.0232 - accuracy: 1.0000 - val_loss: 4.4232 - val_accuracy: 0.2796\n",
      "Epoch 79/100\n",
      "23/23 [==============================] - 0s 964us/step - loss: 0.0224 - accuracy: 1.0000 - val_loss: 4.4394 - val_accuracy: 0.2778\n",
      "Epoch 80/100\n",
      "23/23 [==============================] - 0s 1ms/step - loss: 0.0217 - accuracy: 1.0000 - val_loss: 4.4556 - val_accuracy: 0.2796\n",
      "Epoch 81/100\n",
      "23/23 [==============================] - 0s 974us/step - loss: 0.0210 - accuracy: 1.0000 - val_loss: 4.4729 - val_accuracy: 0.2814\n",
      "Epoch 82/100\n",
      "23/23 [==============================] - 0s 996us/step - loss: 0.0204 - accuracy: 1.0000 - val_loss: 4.4886 - val_accuracy: 0.2778\n",
      "Epoch 83/100\n",
      "23/23 [==============================] - 0s 999us/step - loss: 0.0197 - accuracy: 1.0000 - val_loss: 4.5049 - val_accuracy: 0.2778\n",
      "Epoch 84/100\n",
      "23/23 [==============================] - 0s 1ms/step - loss: 0.0191 - accuracy: 1.0000 - val_loss: 4.5204 - val_accuracy: 0.2760\n",
      "Epoch 85/100\n",
      "23/23 [==============================] - 0s 1ms/step - loss: 0.0185 - accuracy: 1.0000 - val_loss: 4.5359 - val_accuracy: 0.2778\n",
      "Epoch 86/100\n",
      "23/23 [==============================] - 0s 1ms/step - loss: 0.0180 - accuracy: 1.0000 - val_loss: 4.5511 - val_accuracy: 0.2778\n",
      "Epoch 87/100\n",
      "23/23 [==============================] - 0s 1ms/step - loss: 0.0174 - accuracy: 1.0000 - val_loss: 4.5672 - val_accuracy: 0.2778\n",
      "Epoch 88/100\n",
      "23/23 [==============================] - 0s 975us/step - loss: 0.0169 - accuracy: 1.0000 - val_loss: 4.5816 - val_accuracy: 0.2760\n",
      "Epoch 89/100\n",
      "23/23 [==============================] - 0s 1ms/step - loss: 0.0164 - accuracy: 1.0000 - val_loss: 4.5969 - val_accuracy: 0.2760\n",
      "Epoch 90/100\n",
      "23/23 [==============================] - 0s 1ms/step - loss: 0.0160 - accuracy: 1.0000 - val_loss: 4.6117 - val_accuracy: 0.2760\n",
      "Epoch 91/100\n",
      "23/23 [==============================] - 0s 1ms/step - loss: 0.0155 - accuracy: 1.0000 - val_loss: 4.6261 - val_accuracy: 0.2778\n",
      "Epoch 92/100\n",
      "23/23 [==============================] - 0s 1ms/step - loss: 0.0151 - accuracy: 1.0000 - val_loss: 4.6404 - val_accuracy: 0.2778\n",
      "Epoch 93/100\n",
      "23/23 [==============================] - 0s 1ms/step - loss: 0.0146 - accuracy: 1.0000 - val_loss: 4.6547 - val_accuracy: 0.2778\n",
      "Epoch 94/100\n",
      "23/23 [==============================] - 0s 1ms/step - loss: 0.0142 - accuracy: 1.0000 - val_loss: 4.6689 - val_accuracy: 0.2778\n",
      "Epoch 95/100\n",
      "23/23 [==============================] - 0s 1ms/step - loss: 0.0138 - accuracy: 1.0000 - val_loss: 4.6836 - val_accuracy: 0.2796\n",
      "Epoch 96/100\n",
      "23/23 [==============================] - 0s 986us/step - loss: 0.0135 - accuracy: 1.0000 - val_loss: 4.6972 - val_accuracy: 0.2796\n",
      "Epoch 97/100\n",
      "23/23 [==============================] - 0s 1ms/step - loss: 0.0131 - accuracy: 1.0000 - val_loss: 4.7110 - val_accuracy: 0.2796\n",
      "Epoch 98/100\n",
      "23/23 [==============================] - 0s 1ms/step - loss: 0.0128 - accuracy: 1.0000 - val_loss: 4.7245 - val_accuracy: 0.2778\n",
      "Epoch 99/100\n",
      "23/23 [==============================] - 0s 1ms/step - loss: 0.0124 - accuracy: 1.0000 - val_loss: 4.7384 - val_accuracy: 0.2796\n",
      "Epoch 100/100\n",
      "23/23 [==============================] - 0s 1ms/step - loss: 0.0121 - accuracy: 1.0000 - val_loss: 4.7518 - val_accuracy: 0.2778\n"
     ]
    }
   ],
   "source": [
    "#model: oversample\n",
    "\n",
    "model_over = Sequential()\n",
    "model_over.add(Dense(20, activation='relu', input_shape=(tf_idf_train.shape[1],)))\n",
    "model_over.add(Dense(7, activation='softmax'))\n",
    "\n",
    "model_over.compile(loss = 'categorical_crossentropy', optimizer = 'Adam', metrics = ['accuracy'])\n",
    "history_over = model_over.fit(tf_idf_train_over, y_train_over, epochs=EPOCH, batch_size=BATCHSIZE, validation_data=(tf_idf_val_over, y_val))\n",
    "model_over.save(MODEL_LOCATION+'tfidf_over.h5')"
   ],
   "metadata": {
    "collapsed": false,
    "ExecuteTime": {
     "end_time": "2024-03-02T14:06:03.983056Z",
     "start_time": "2024-03-02T14:06:01.370043Z"
    }
   },
   "id": "3bc99c21116db11f"
  },
  {
   "cell_type": "code",
   "execution_count": 136,
   "outputs": [
    {
     "name": "stdout",
     "output_type": "stream",
     "text": [
      "9/9 [==============================] - 0s 444us/step\n",
      "\n",
      "Classification Report:\n",
      "              precision    recall  f1-score   support\n",
      "\n",
      "           0       0.40      0.51      0.45        76\n",
      "           1       0.03      0.08      0.05        12\n",
      "           2       0.40      0.61      0.48        31\n",
      "           3       0.00      0.00      0.00        14\n",
      "           4       0.14      0.32      0.20        25\n",
      "           5       0.00      0.00      0.00        98\n",
      "           6       0.17      0.36      0.23        14\n",
      "\n",
      "    accuracy                           0.27       270\n",
      "   macro avg       0.16      0.27      0.20       270\n",
      "weighted avg       0.18      0.27      0.21       270\n"
     ]
    },
    {
     "name": "stderr",
     "output_type": "stream",
     "text": [
      "/Users/ygao/anaconda3/envs/nlp/lib/python3.11/site-packages/sklearn/metrics/_classification.py:1469: UndefinedMetricWarning: Precision and F-score are ill-defined and being set to 0.0 in labels with no predicted samples. Use `zero_division` parameter to control this behavior.\n",
      "  _warn_prf(average, modifier, msg_start, len(result))\n",
      "/Users/ygao/anaconda3/envs/nlp/lib/python3.11/site-packages/sklearn/metrics/_classification.py:1469: UndefinedMetricWarning: Precision and F-score are ill-defined and being set to 0.0 in labels with no predicted samples. Use `zero_division` parameter to control this behavior.\n",
      "  _warn_prf(average, modifier, msg_start, len(result))\n",
      "/Users/ygao/anaconda3/envs/nlp/lib/python3.11/site-packages/sklearn/metrics/_classification.py:1469: UndefinedMetricWarning: Precision and F-score are ill-defined and being set to 0.0 in labels with no predicted samples. Use `zero_division` parameter to control this behavior.\n",
      "  _warn_prf(average, modifier, msg_start, len(result))\n"
     ]
    }
   ],
   "source": [
    "y_pred_over = model_over.predict(tf_idf_test_over)\n",
    "y_pred_over_labels = np.argmax(y_pred_over, axis=1)\n",
    "y_true_labels = np.argmax(y_test, axis=1)\n",
    "conf_matrix_over = confusion_matrix(y_true_labels, y_pred_over_labels)\n",
    "#print classification report\n",
    "print(\"\\nClassification Report:\")\n",
    "print(classification_report(y_true_labels, y_pred_over_labels))"
   ],
   "metadata": {
    "collapsed": false,
    "ExecuteTime": {
     "end_time": "2024-03-02T14:08:47.654365Z",
     "start_time": "2024-03-02T14:08:47.618887Z"
    }
   },
   "id": "2fe2cc1dca3994f2"
  },
  {
   "cell_type": "code",
   "execution_count": 137,
   "outputs": [
    {
     "data": {
      "text/plain": "<Figure size 900x700 with 2 Axes>",
      "image/png": "[encoded data removed]"
     },
     "metadata": {},
     "output_type": "display_data"
    }
   ],
   "source": [
    "confusionPlot(conf_matrix_over)"
   ],
   "metadata": {
    "collapsed": false,
    "ExecuteTime": {
     "end_time": "2024-03-02T14:08:49.395582Z",
     "start_time": "2024-03-02T14:08:49.283108Z"
    }
   },
   "id": "7032dc60a8e52f00"
  },
  {
   "cell_type": "markdown",
   "source": [
    "Under sample sadness"
   ],
   "metadata": {
    "collapsed": false
   },
   "id": "13496967b552656b"
  },
  {
   "cell_type": "code",
   "execution_count": 130,
   "outputs": [],
   "source": [
    "#under sample sadness to have same number to anger\n",
    "sampling_strategy = {0: len(train[train == 0]), 5: len(train[train == 5])}\n",
    "\n",
    "undersampler = RandomUnderSampler(sampling_strategy=sampling_strategy, random_state=RANDOM_SEED)\n",
    "corpus_train_2d = corpus_train.values.reshape(-1, 1)\n",
    "train_2d = train.reshape(-1,1)\n",
    "x_train_undersampled, y_train_undersampled = undersampler.fit_resample(corpus_train_2d, train_2d)"
   ],
   "metadata": {
    "collapsed": false,
    "ExecuteTime": {
     "end_time": "2024-03-02T14:06:45.347833Z",
     "start_time": "2024-03-02T14:06:45.333601Z"
    }
   },
   "id": "7fc9aa4eaeb471f3"
  },
  {
   "cell_type": "code",
   "execution_count": 131,
   "outputs": [],
   "source": [
    "x_train_under = clean_text(x_train_undersampled.flatten())\n",
    "y_train_under = to_categorical(y_train_undersampled, num_classes=len(CATEGORIES))"
   ],
   "metadata": {
    "collapsed": false,
    "ExecuteTime": {
     "end_time": "2024-03-02T14:06:55.952330Z",
     "start_time": "2024-03-02T14:06:55.840291Z"
    }
   },
   "id": "f26fc82faadbae91"
  },
  {
   "cell_type": "code",
   "execution_count": 132,
   "outputs": [],
   "source": [
    "tf_idf_train_under = vectorizer.fit_transform(x_train_under).toarray()\n",
    "\n",
    "tf_idf_val_under = vectorizer.transform(x_val).toarray()\n",
    "tf_idf_test_under = vectorizer.transform(x_test).toarray()"
   ],
   "metadata": {
    "collapsed": false,
    "ExecuteTime": {
     "end_time": "2024-03-02T14:07:01.239469Z",
     "start_time": "2024-03-02T14:07:01.214940Z"
    }
   },
   "id": "1e688893bfa6bf2a"
  },
  {
   "cell_type": "code",
   "execution_count": 133,
   "outputs": [
    {
     "name": "stdout",
     "output_type": "stream",
     "text": [
      "Epoch 1/100\n",
      "14/14 [==============================] - 0s 5ms/step - loss: 1.9285 - accuracy: 0.2089 - val_loss: 1.9111 - val_accuracy: 0.2993\n",
      "Epoch 2/100\n",
      "14/14 [==============================] - 0s 1ms/step - loss: 1.8907 - accuracy: 0.3594 - val_loss: 1.8790 - val_accuracy: 0.3351\n",
      "Epoch 3/100\n",
      "14/14 [==============================] - 0s 1ms/step - loss: 1.8517 - accuracy: 0.3794 - val_loss: 1.8461 - val_accuracy: 0.3495\n",
      "Epoch 4/100\n",
      "14/14 [==============================] - 0s 2ms/step - loss: 1.8108 - accuracy: 0.3594 - val_loss: 1.8122 - val_accuracy: 0.3441\n",
      "Epoch 5/100\n",
      "14/14 [==============================] - 0s 1ms/step - loss: 1.7710 - accuracy: 0.3548 - val_loss: 1.7831 - val_accuracy: 0.3441\n",
      "Epoch 6/100\n",
      "14/14 [==============================] - 0s 1ms/step - loss: 1.7317 - accuracy: 0.3510 - val_loss: 1.7585 - val_accuracy: 0.3441\n",
      "Epoch 7/100\n",
      "14/14 [==============================] - 0s 1ms/step - loss: 1.6970 - accuracy: 0.3502 - val_loss: 1.7387 - val_accuracy: 0.3441\n",
      "Epoch 8/100\n",
      "14/14 [==============================] - 0s 1ms/step - loss: 1.6661 - accuracy: 0.3518 - val_loss: 1.7230 - val_accuracy: 0.3441\n",
      "Epoch 9/100\n",
      "14/14 [==============================] - 0s 1ms/step - loss: 1.6361 - accuracy: 0.3533 - val_loss: 1.7087 - val_accuracy: 0.3441\n",
      "Epoch 10/100\n",
      "14/14 [==============================] - 0s 1ms/step - loss: 1.6091 - accuracy: 0.3610 - val_loss: 1.6959 - val_accuracy: 0.3441\n",
      "Epoch 11/100\n",
      "14/14 [==============================] - 0s 1ms/step - loss: 1.5823 - accuracy: 0.3633 - val_loss: 1.6833 - val_accuracy: 0.3441\n",
      "Epoch 12/100\n",
      "14/14 [==============================] - 0s 1ms/step - loss: 1.5553 - accuracy: 0.3717 - val_loss: 1.6727 - val_accuracy: 0.3477\n",
      "Epoch 13/100\n",
      "14/14 [==============================] - 0s 1ms/step - loss: 1.5286 - accuracy: 0.3917 - val_loss: 1.6626 - val_accuracy: 0.3548\n",
      "Epoch 14/100\n",
      "14/14 [==============================] - 0s 1ms/step - loss: 1.5021 - accuracy: 0.4048 - val_loss: 1.6539 - val_accuracy: 0.3584\n",
      "Epoch 15/100\n",
      "14/14 [==============================] - 0s 1ms/step - loss: 1.4763 - accuracy: 0.4255 - val_loss: 1.6454 - val_accuracy: 0.3656\n",
      "Epoch 16/100\n",
      "14/14 [==============================] - 0s 1ms/step - loss: 1.4494 - accuracy: 0.4409 - val_loss: 1.6360 - val_accuracy: 0.3728\n",
      "Epoch 17/100\n",
      "14/14 [==============================] - 0s 1ms/step - loss: 1.4231 - accuracy: 0.4531 - val_loss: 1.6276 - val_accuracy: 0.3746\n",
      "Epoch 18/100\n",
      "14/14 [==============================] - 0s 1ms/step - loss: 1.3969 - accuracy: 0.4670 - val_loss: 1.6187 - val_accuracy: 0.3746\n",
      "Epoch 19/100\n",
      "14/14 [==============================] - 0s 1ms/step - loss: 1.3703 - accuracy: 0.4892 - val_loss: 1.6086 - val_accuracy: 0.3853\n",
      "Epoch 20/100\n",
      "14/14 [==============================] - 0s 1ms/step - loss: 1.3444 - accuracy: 0.5038 - val_loss: 1.5983 - val_accuracy: 0.3961\n",
      "Epoch 21/100\n",
      "14/14 [==============================] - 0s 1ms/step - loss: 1.3190 - accuracy: 0.5154 - val_loss: 1.5916 - val_accuracy: 0.3925\n",
      "Epoch 22/100\n",
      "14/14 [==============================] - 0s 1ms/step - loss: 1.2940 - accuracy: 0.5399 - val_loss: 1.5841 - val_accuracy: 0.3996\n",
      "Epoch 23/100\n",
      "14/14 [==============================] - 0s 1ms/step - loss: 1.2692 - accuracy: 0.5568 - val_loss: 1.5781 - val_accuracy: 0.4014\n",
      "Epoch 24/100\n",
      "14/14 [==============================] - 0s 1ms/step - loss: 1.2448 - accuracy: 0.5676 - val_loss: 1.5731 - val_accuracy: 0.4068\n",
      "Epoch 25/100\n",
      "14/14 [==============================] - 0s 1ms/step - loss: 1.2211 - accuracy: 0.5799 - val_loss: 1.5673 - val_accuracy: 0.4068\n",
      "Epoch 26/100\n",
      "14/14 [==============================] - 0s 1ms/step - loss: 1.1975 - accuracy: 0.5845 - val_loss: 1.5617 - val_accuracy: 0.4068\n",
      "Epoch 27/100\n",
      "14/14 [==============================] - 0s 1ms/step - loss: 1.1749 - accuracy: 0.5945 - val_loss: 1.5573 - val_accuracy: 0.4068\n",
      "Epoch 28/100\n",
      "14/14 [==============================] - 0s 1ms/step - loss: 1.1519 - accuracy: 0.6045 - val_loss: 1.5508 - val_accuracy: 0.4104\n",
      "Epoch 29/100\n",
      "14/14 [==============================] - 0s 1ms/step - loss: 1.1284 - accuracy: 0.6267 - val_loss: 1.5430 - val_accuracy: 0.4158\n",
      "Epoch 30/100\n",
      "14/14 [==============================] - 0s 1ms/step - loss: 1.1058 - accuracy: 0.6352 - val_loss: 1.5387 - val_accuracy: 0.4140\n",
      "Epoch 31/100\n",
      "14/14 [==============================] - 0s 1ms/step - loss: 1.0833 - accuracy: 0.6498 - val_loss: 1.5349 - val_accuracy: 0.4283\n",
      "Epoch 32/100\n",
      "14/14 [==============================] - 0s 1ms/step - loss: 1.0619 - accuracy: 0.6659 - val_loss: 1.5317 - val_accuracy: 0.4265\n",
      "Epoch 33/100\n",
      "14/14 [==============================] - 0s 1ms/step - loss: 1.0429 - accuracy: 0.6774 - val_loss: 1.5305 - val_accuracy: 0.4337\n",
      "Epoch 34/100\n",
      "14/14 [==============================] - 0s 1ms/step - loss: 1.0212 - accuracy: 0.6859 - val_loss: 1.5246 - val_accuracy: 0.4337\n",
      "Epoch 35/100\n",
      "14/14 [==============================] - 0s 1ms/step - loss: 1.0007 - accuracy: 0.7005 - val_loss: 1.5216 - val_accuracy: 0.4301\n",
      "Epoch 36/100\n",
      "14/14 [==============================] - 0s 2ms/step - loss: 0.9805 - accuracy: 0.7235 - val_loss: 1.5221 - val_accuracy: 0.4373\n",
      "Epoch 37/100\n",
      "14/14 [==============================] - 0s 1ms/step - loss: 0.9621 - accuracy: 0.7281 - val_loss: 1.5219 - val_accuracy: 0.4337\n",
      "Epoch 38/100\n",
      "14/14 [==============================] - 0s 1ms/step - loss: 0.9446 - accuracy: 0.7373 - val_loss: 1.5208 - val_accuracy: 0.4391\n",
      "Epoch 39/100\n",
      "14/14 [==============================] - 0s 1ms/step - loss: 0.9268 - accuracy: 0.7496 - val_loss: 1.5171 - val_accuracy: 0.4409\n",
      "Epoch 40/100\n",
      "14/14 [==============================] - 0s 1ms/step - loss: 0.9084 - accuracy: 0.7550 - val_loss: 1.5161 - val_accuracy: 0.4444\n",
      "Epoch 41/100\n",
      "14/14 [==============================] - 0s 1ms/step - loss: 0.8925 - accuracy: 0.7488 - val_loss: 1.5175 - val_accuracy: 0.4409\n",
      "Epoch 42/100\n",
      "14/14 [==============================] - 0s 1ms/step - loss: 0.8756 - accuracy: 0.7611 - val_loss: 1.5155 - val_accuracy: 0.4444\n",
      "Epoch 43/100\n",
      "14/14 [==============================] - 0s 1ms/step - loss: 0.8572 - accuracy: 0.7711 - val_loss: 1.5136 - val_accuracy: 0.4462\n",
      "Epoch 44/100\n",
      "14/14 [==============================] - 0s 1ms/step - loss: 0.8406 - accuracy: 0.7811 - val_loss: 1.5133 - val_accuracy: 0.4444\n",
      "Epoch 45/100\n",
      "14/14 [==============================] - 0s 1ms/step - loss: 0.8246 - accuracy: 0.7796 - val_loss: 1.5155 - val_accuracy: 0.4373\n",
      "Epoch 46/100\n",
      "14/14 [==============================] - 0s 1ms/step - loss: 0.8096 - accuracy: 0.7819 - val_loss: 1.5161 - val_accuracy: 0.4355\n",
      "Epoch 47/100\n",
      "14/14 [==============================] - 0s 1ms/step - loss: 0.7935 - accuracy: 0.8011 - val_loss: 1.5131 - val_accuracy: 0.4265\n",
      "Epoch 48/100\n",
      "14/14 [==============================] - 0s 1ms/step - loss: 0.7783 - accuracy: 0.8149 - val_loss: 1.5194 - val_accuracy: 0.4355\n",
      "Epoch 49/100\n",
      "14/14 [==============================] - 0s 1ms/step - loss: 0.7636 - accuracy: 0.8241 - val_loss: 1.5211 - val_accuracy: 0.4355\n",
      "Epoch 50/100\n",
      "14/14 [==============================] - 0s 1ms/step - loss: 0.7495 - accuracy: 0.8249 - val_loss: 1.5250 - val_accuracy: 0.4373\n",
      "Epoch 51/100\n",
      "14/14 [==============================] - 0s 1ms/step - loss: 0.7348 - accuracy: 0.8249 - val_loss: 1.5259 - val_accuracy: 0.4373\n",
      "Epoch 52/100\n",
      "14/14 [==============================] - 0s 1ms/step - loss: 0.7206 - accuracy: 0.8264 - val_loss: 1.5279 - val_accuracy: 0.4337\n",
      "Epoch 53/100\n",
      "14/14 [==============================] - 0s 1ms/step - loss: 0.7076 - accuracy: 0.8264 - val_loss: 1.5309 - val_accuracy: 0.4391\n",
      "Epoch 54/100\n",
      "14/14 [==============================] - 0s 1ms/step - loss: 0.6955 - accuracy: 0.8287 - val_loss: 1.5349 - val_accuracy: 0.4409\n",
      "Epoch 55/100\n",
      "14/14 [==============================] - 0s 1ms/step - loss: 0.6818 - accuracy: 0.8326 - val_loss: 1.5375 - val_accuracy: 0.4355\n",
      "Epoch 56/100\n",
      "14/14 [==============================] - 0s 1ms/step - loss: 0.6688 - accuracy: 0.8395 - val_loss: 1.5410 - val_accuracy: 0.4391\n",
      "Epoch 57/100\n",
      "14/14 [==============================] - 0s 1ms/step - loss: 0.6561 - accuracy: 0.8533 - val_loss: 1.5433 - val_accuracy: 0.4373\n",
      "Epoch 58/100\n",
      "14/14 [==============================] - 0s 1ms/step - loss: 0.6438 - accuracy: 0.8541 - val_loss: 1.5459 - val_accuracy: 0.4391\n",
      "Epoch 59/100\n",
      "14/14 [==============================] - 0s 1ms/step - loss: 0.6315 - accuracy: 0.8618 - val_loss: 1.5483 - val_accuracy: 0.4427\n",
      "Epoch 60/100\n",
      "14/14 [==============================] - 0s 1ms/step - loss: 0.6193 - accuracy: 0.8671 - val_loss: 1.5507 - val_accuracy: 0.4427\n",
      "Epoch 61/100\n",
      "14/14 [==============================] - 0s 1ms/step - loss: 0.6072 - accuracy: 0.8702 - val_loss: 1.5523 - val_accuracy: 0.4409\n",
      "Epoch 62/100\n",
      "14/14 [==============================] - 0s 1ms/step - loss: 0.5957 - accuracy: 0.8748 - val_loss: 1.5545 - val_accuracy: 0.4391\n",
      "Epoch 63/100\n",
      "14/14 [==============================] - 0s 1ms/step - loss: 0.5854 - accuracy: 0.8771 - val_loss: 1.5583 - val_accuracy: 0.4391\n",
      "Epoch 64/100\n",
      "14/14 [==============================] - 0s 1ms/step - loss: 0.5739 - accuracy: 0.8802 - val_loss: 1.5597 - val_accuracy: 0.4409\n",
      "Epoch 65/100\n",
      "14/14 [==============================] - 0s 1ms/step - loss: 0.5634 - accuracy: 0.8948 - val_loss: 1.5641 - val_accuracy: 0.4427\n",
      "Epoch 66/100\n",
      "14/14 [==============================] - 0s 1ms/step - loss: 0.5528 - accuracy: 0.8994 - val_loss: 1.5694 - val_accuracy: 0.4409\n",
      "Epoch 67/100\n",
      "14/14 [==============================] - 0s 1ms/step - loss: 0.5421 - accuracy: 0.8978 - val_loss: 1.5739 - val_accuracy: 0.4427\n",
      "Epoch 68/100\n",
      "14/14 [==============================] - 0s 1ms/step - loss: 0.5317 - accuracy: 0.9025 - val_loss: 1.5767 - val_accuracy: 0.4409\n",
      "Epoch 69/100\n",
      "14/14 [==============================] - 0s 1ms/step - loss: 0.5224 - accuracy: 0.9132 - val_loss: 1.5804 - val_accuracy: 0.4391\n",
      "Epoch 70/100\n",
      "14/14 [==============================] - 0s 1ms/step - loss: 0.5123 - accuracy: 0.9140 - val_loss: 1.5860 - val_accuracy: 0.4444\n",
      "Epoch 71/100\n",
      "14/14 [==============================] - 0s 1ms/step - loss: 0.5029 - accuracy: 0.9109 - val_loss: 1.5905 - val_accuracy: 0.4444\n",
      "Epoch 72/100\n",
      "14/14 [==============================] - 0s 1ms/step - loss: 0.4937 - accuracy: 0.9201 - val_loss: 1.5935 - val_accuracy: 0.4462\n",
      "Epoch 73/100\n",
      "14/14 [==============================] - 0s 1ms/step - loss: 0.4849 - accuracy: 0.9293 - val_loss: 1.5972 - val_accuracy: 0.4444\n",
      "Epoch 74/100\n",
      "14/14 [==============================] - 0s 1ms/step - loss: 0.4756 - accuracy: 0.9301 - val_loss: 1.6011 - val_accuracy: 0.4427\n",
      "Epoch 75/100\n",
      "14/14 [==============================] - 0s 1ms/step - loss: 0.4663 - accuracy: 0.9339 - val_loss: 1.6030 - val_accuracy: 0.4498\n",
      "Epoch 76/100\n",
      "14/14 [==============================] - 0s 1ms/step - loss: 0.4573 - accuracy: 0.9339 - val_loss: 1.6067 - val_accuracy: 0.4462\n",
      "Epoch 77/100\n",
      "14/14 [==============================] - 0s 1ms/step - loss: 0.4486 - accuracy: 0.9378 - val_loss: 1.6096 - val_accuracy: 0.4498\n",
      "Epoch 78/100\n",
      "14/14 [==============================] - 0s 1ms/step - loss: 0.4403 - accuracy: 0.9386 - val_loss: 1.6129 - val_accuracy: 0.4552\n",
      "Epoch 79/100\n",
      "14/14 [==============================] - 0s 1ms/step - loss: 0.4316 - accuracy: 0.9439 - val_loss: 1.6187 - val_accuracy: 0.4552\n",
      "Epoch 80/100\n",
      "14/14 [==============================] - 0s 1ms/step - loss: 0.4231 - accuracy: 0.9455 - val_loss: 1.6230 - val_accuracy: 0.4534\n",
      "Epoch 81/100\n",
      "14/14 [==============================] - 0s 1ms/step - loss: 0.4153 - accuracy: 0.9470 - val_loss: 1.6258 - val_accuracy: 0.4534\n",
      "Epoch 82/100\n",
      "14/14 [==============================] - 0s 1ms/step - loss: 0.4076 - accuracy: 0.9478 - val_loss: 1.6311 - val_accuracy: 0.4534\n",
      "Epoch 83/100\n",
      "14/14 [==============================] - 0s 1ms/step - loss: 0.3998 - accuracy: 0.9524 - val_loss: 1.6354 - val_accuracy: 0.4552\n",
      "Epoch 84/100\n",
      "14/14 [==============================] - 0s 1ms/step - loss: 0.3924 - accuracy: 0.9547 - val_loss: 1.6421 - val_accuracy: 0.4498\n",
      "Epoch 85/100\n",
      "14/14 [==============================] - 0s 1ms/step - loss: 0.3845 - accuracy: 0.9555 - val_loss: 1.6500 - val_accuracy: 0.4462\n",
      "Epoch 86/100\n",
      "14/14 [==============================] - 0s 1ms/step - loss: 0.3786 - accuracy: 0.9578 - val_loss: 1.6574 - val_accuracy: 0.4462\n",
      "Epoch 87/100\n",
      "14/14 [==============================] - 0s 1ms/step - loss: 0.3712 - accuracy: 0.9585 - val_loss: 1.6559 - val_accuracy: 0.4427\n",
      "Epoch 88/100\n",
      "14/14 [==============================] - 0s 1ms/step - loss: 0.3632 - accuracy: 0.9624 - val_loss: 1.6626 - val_accuracy: 0.4480\n",
      "Epoch 89/100\n",
      "14/14 [==============================] - 0s 1ms/step - loss: 0.3562 - accuracy: 0.9662 - val_loss: 1.6669 - val_accuracy: 0.4480\n",
      "Epoch 90/100\n",
      "14/14 [==============================] - 0s 1ms/step - loss: 0.3492 - accuracy: 0.9677 - val_loss: 1.6702 - val_accuracy: 0.4462\n",
      "Epoch 91/100\n",
      "14/14 [==============================] - 0s 1ms/step - loss: 0.3427 - accuracy: 0.9685 - val_loss: 1.6756 - val_accuracy: 0.4498\n",
      "Epoch 92/100\n",
      "14/14 [==============================] - 0s 1ms/step - loss: 0.3363 - accuracy: 0.9700 - val_loss: 1.6795 - val_accuracy: 0.4444\n",
      "Epoch 93/100\n",
      "14/14 [==============================] - 0s 1ms/step - loss: 0.3299 - accuracy: 0.9724 - val_loss: 1.6835 - val_accuracy: 0.4409\n",
      "Epoch 94/100\n",
      "14/14 [==============================] - 0s 1ms/step - loss: 0.3235 - accuracy: 0.9731 - val_loss: 1.6874 - val_accuracy: 0.4462\n",
      "Epoch 95/100\n",
      "14/14 [==============================] - 0s 1ms/step - loss: 0.3177 - accuracy: 0.9739 - val_loss: 1.6921 - val_accuracy: 0.4462\n",
      "Epoch 96/100\n",
      "14/14 [==============================] - 0s 1ms/step - loss: 0.3117 - accuracy: 0.9777 - val_loss: 1.6999 - val_accuracy: 0.4462\n",
      "Epoch 97/100\n",
      "14/14 [==============================] - 0s 1ms/step - loss: 0.3053 - accuracy: 0.9777 - val_loss: 1.7064 - val_accuracy: 0.4480\n",
      "Epoch 98/100\n",
      "14/14 [==============================] - 0s 1ms/step - loss: 0.2997 - accuracy: 0.9777 - val_loss: 1.7146 - val_accuracy: 0.4444\n",
      "Epoch 99/100\n",
      "14/14 [==============================] - 0s 1ms/step - loss: 0.2955 - accuracy: 0.9762 - val_loss: 1.7224 - val_accuracy: 0.4498\n",
      "Epoch 100/100\n",
      "14/14 [==============================] - 0s 1ms/step - loss: 0.2901 - accuracy: 0.9777 - val_loss: 1.7262 - val_accuracy: 0.4462\n"
     ]
    }
   ],
   "source": [
    "#model: undersample\n",
    "\n",
    "model_under = Sequential()\n",
    "model_under.add(Dense(20, activation='relu', input_shape=(tf_idf_train.shape[1],)))\n",
    "model_under.add(Dense(7, activation='softmax'))\n",
    "\n",
    "model_under.compile(loss = 'categorical_crossentropy', optimizer = 'Adam', metrics = ['accuracy'])\n",
    "history_under = model_under.fit(tf_idf_train_under, y_train_under, epochs=EPOCH, batch_size=BATCHSIZE, validation_data=(tf_idf_val_under, y_val))\n",
    "model_over.save(MODEL_LOCATION+'tfidf_under.h5')"
   ],
   "metadata": {
    "collapsed": false,
    "ExecuteTime": {
     "end_time": "2024-03-02T14:07:05.013897Z",
     "start_time": "2024-03-02T14:07:02.905843Z"
    }
   },
   "id": "ae935fed377c6796"
  },
  {
   "cell_type": "code",
   "execution_count": 134,
   "outputs": [
    {
     "name": "stdout",
     "output_type": "stream",
     "text": [
      "9/9 [==============================] - 0s 515us/step\n",
      "\n",
      "Classification Report:\n",
      "              precision    recall  f1-score   support\n",
      "\n",
      "           0       0.51      0.29      0.37        76\n",
      "           1       0.00      0.00      0.00        12\n",
      "           2       0.60      0.48      0.54        31\n",
      "           3       0.00      0.00      0.00        14\n",
      "           4       0.21      0.32      0.25        25\n",
      "           5       0.53      0.72      0.61        98\n",
      "           6       0.15      0.14      0.15        14\n",
      "\n",
      "    accuracy                           0.44       270\n",
      "   macro avg       0.29      0.28      0.27       270\n",
      "weighted avg       0.43      0.44      0.42       270\n"
     ]
    },
    {
     "name": "stderr",
     "output_type": "stream",
     "text": [
      "/Users/ygao/anaconda3/envs/nlp/lib/python3.11/site-packages/sklearn/metrics/_classification.py:1469: UndefinedMetricWarning: Precision and F-score are ill-defined and being set to 0.0 in labels with no predicted samples. Use `zero_division` parameter to control this behavior.\n",
      "  _warn_prf(average, modifier, msg_start, len(result))\n",
      "/Users/ygao/anaconda3/envs/nlp/lib/python3.11/site-packages/sklearn/metrics/_classification.py:1469: UndefinedMetricWarning: Precision and F-score are ill-defined and being set to 0.0 in labels with no predicted samples. Use `zero_division` parameter to control this behavior.\n",
      "  _warn_prf(average, modifier, msg_start, len(result))\n",
      "/Users/ygao/anaconda3/envs/nlp/lib/python3.11/site-packages/sklearn/metrics/_classification.py:1469: UndefinedMetricWarning: Precision and F-score are ill-defined and being set to 0.0 in labels with no predicted samples. Use `zero_division` parameter to control this behavior.\n",
      "  _warn_prf(average, modifier, msg_start, len(result))\n"
     ]
    }
   ],
   "source": [
    "y_pred_under = model_under.predict(tf_idf_test_under)\n",
    "y_pred_under_labels = np.argmax(y_pred_under, axis=1)\n",
    "y_true_labels = np.argmax(y_test, axis=1)\n",
    "conf_matrix_under = confusion_matrix(y_true_labels, y_pred_under_labels)\n",
    "#print classification report\n",
    "print(\"\\nClassification Report:\")\n",
    "print(classification_report(y_true_labels, y_pred_under_labels))"
   ],
   "metadata": {
    "collapsed": false,
    "ExecuteTime": {
     "end_time": "2024-03-02T14:08:34.002061Z",
     "start_time": "2024-03-02T14:08:33.955640Z"
    }
   },
   "id": "bdb7652515116f3e"
  },
  {
   "cell_type": "code",
   "execution_count": 135,
   "outputs": [
    {
     "data": {
      "text/plain": "<Figure size 900x700 with 2 Axes>",
      "image/png": "[encoded data removed]"
     },
     "metadata": {},
     "output_type": "display_data"
    }
   ],
   "source": [
    "confusionPlot(conf_matrix_under)"
   ],
   "metadata": {
    "collapsed": false,
    "ExecuteTime": {
     "end_time": "2024-03-02T14:08:35.690466Z",
     "start_time": "2024-03-02T14:08:35.582326Z"
    }
   },
   "id": "ab9a27c93efc1399"
  },
  {
   "cell_type": "code",
   "execution_count": null,
   "outputs": [],
   "source": [],
   "metadata": {
    "collapsed": false
   },
   "id": "1b69a02dde70bdf5"
  }
 ],
 "metadata": {
  "kernelspec": {
   "display_name": "Python 3",
   "language": "python",
   "name": "python3"
  },
  "language_info": {
   "codemirror_mode": {
    "name": "ipython",
    "version": 2
   },
   "file_extension": ".py",
   "mimetype": "text/x-python",
   "name": "python",
   "nbconvert_exporter": "python",
   "pygments_lexer": "ipython2",
   "version": "2.7.6"
  }
 },
 "nbformat": 4,
 "nbformat_minor": 5
}
