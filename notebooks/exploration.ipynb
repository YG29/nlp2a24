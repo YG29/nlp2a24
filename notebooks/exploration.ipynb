{
 "cells": [
  {
   "cell_type": "markdown",
   "source": [
    "# Assignment 2: Emotion Classification"
   ],
   "metadata": {
    "collapsed": false
   },
   "id": "28610c7646adf47e"
  },
  {
   "cell_type": "code",
   "execution_count": 1,
   "outputs": [
    {
     "name": "stderr",
     "output_type": "stream",
     "text": [
      "[nltk_data] Downloading package stopwords to /Users/ygao/nltk_data...\n",
      "[nltk_data]   Package stopwords is already up-to-date!\n",
      "[nltk_data] Downloading package wordnet to /Users/ygao/nltk_data...\n",
      "[nltk_data]   Package wordnet is already up-to-date!\n"
     ]
    }
   ],
   "source": [
    "#all dependencies\n",
    "\n",
    "import numpy as np\n",
    "import pandas as pd\n",
    "import seaborn as sns\n",
    "import matplotlib.pyplot as plt\n",
    "\n",
    "import re\n",
    "import nltk\n",
    "nltk.download('stopwords')\n",
    "nltk.download('wordnet')\n",
    "from nltk.corpus import stopwords\n",
    "from nltk.stem import WordNetLemmatizer\n",
    "from nltk.tokenize import wordpunct_tokenize\n",
    "\n",
    "import tensorflow as tf\n",
    "from tensorflow.keras.utils import to_categorical\n",
    "from tensorflow.keras.models import Sequential\n",
    "from tensorflow.keras.layers import Dense\n",
    "\n",
    "from sklearn.model_selection import train_test_split\n",
    "from sklearn.preprocessing import LabelEncoder\n",
    "from sklearn.feature_extraction.text import TfidfVectorizer\n",
    "from sklearn.metrics import confusion_matrix, classification_report"
   ],
   "metadata": {
    "collapsed": false,
    "ExecuteTime": {
     "end_time": "2024-03-01T13:50:52.032796Z",
     "start_time": "2024-03-01T13:50:43.245523Z"
    }
   },
   "id": "e096f749c73a9e61"
  },
  {
   "cell_type": "code",
   "execution_count": 2,
   "outputs": [],
   "source": [
    "#constants\n",
    "DATA_LOCATION = '../data/train_ready_for_WS.csv'\n",
    "TEST_LOCATION = '../data/test.csv'\n",
    "CLEAN_DATA_LOCATION = '../data/'\n",
    "MODEL_LOCATION = '../model/'\n",
    "RANDOM_SEED = 297\n",
    "CATEGORIES = {'anger':0, 'disgust':1, 'fear':2, 'joy':3, 'neutral':4, 'sadness':5, 'surprise':6}\n"
   ],
   "metadata": {
    "collapsed": false,
    "ExecuteTime": {
     "end_time": "2024-03-01T13:50:56.952914Z",
     "start_time": "2024-03-01T13:50:56.945267Z"
    }
   },
   "id": "e3d6ab30afd54603"
  },
  {
   "cell_type": "markdown",
   "source": [
    "# Data preparation"
   ],
   "metadata": {
    "collapsed": false
   },
   "id": "ebd70144a21131e1"
  },
  {
   "cell_type": "markdown",
   "source": [
    "We load the data from local source, and split it into train validation and test sets. \n",
    "Split corpus and target."
   ],
   "metadata": {
    "collapsed": false
   },
   "id": "d2f78ca7b35e6570"
  },
  {
   "cell_type": "code",
   "execution_count": 3,
   "outputs": [],
   "source": [
    "#load dataset\n",
    "def load_data(filename):\n",
    "    df = pd.read_csv(filename, delimiter=';')\n",
    "    return df\n",
    "\n",
    "df_train = load_data(DATA_LOCATION)\n",
    "df_test = load_data(TEST_LOCATION)"
   ],
   "metadata": {
    "collapsed": false,
    "ExecuteTime": {
     "end_time": "2024-03-01T13:51:01.791939Z",
     "start_time": "2024-03-01T13:51:01.766088Z"
    }
   },
   "id": "5d183f80276fce22"
  },
  {
   "cell_type": "code",
   "execution_count": 4,
   "outputs": [],
   "source": [
    "#split training dataset into train, validation (70-30)\n",
    "\n",
    "df_train, df_val = train_test_split(df_train, test_size=0.3, random_state=RANDOM_SEED)\n",
    "#reset indices\n",
    "df_train = df_train.reset_index(drop=True)\n",
    "df_val = df_val.reset_index(drop=True)\n",
    "df_test = df_test.reset_index(drop=True)\n",
    "#save the split data frames to csv just in case\n",
    "df_train.to_csv(CLEAN_DATA_LOCATION+'raw_train.csv', index=False)\n",
    "df_val.to_csv(CLEAN_DATA_LOCATION+'raw_val.csv', index=False)\n",
    "df_test.to_csv(CLEAN_DATA_LOCATION+'raw_test.csv', index=False)"
   ],
   "metadata": {
    "collapsed": false,
    "ExecuteTime": {
     "end_time": "2024-03-01T13:51:02.685783Z",
     "start_time": "2024-03-01T13:51:02.660948Z"
    }
   },
   "id": "5b179ec9ca0d9f10"
  },
  {
   "cell_type": "markdown",
   "source": [
    "We have a closer look at the training set to see if the data is balanced. As it turns out the data contains a lot of neutral posts. There are several ways to deal with this class imbalance. We could undersample the overrepresented class; we could also adjust class weights; or we could use model such as Random Forests which is not sensitive to class imbalance. \n",
    "\n",
    "note: we can discuss this later"
   ],
   "metadata": {
    "collapsed": false
   },
   "id": "dcaaad7bbb33cdaf"
  },
  {
   "cell_type": "code",
   "execution_count": 5,
   "outputs": [
    {
     "name": "stdout",
     "output_type": "stream",
     "text": [
      "Possible sentiments are ['anger' 'disgust' 'fear' 'joy' 'neutral' 'sadness' 'surprise'] of 7 sentiments\n",
      "The number of posts for training is 1302\n"
     ]
    },
    {
     "name": "stderr",
     "output_type": "stream",
     "text": [
      "/var/folders/3r/pzt2_p_x2xdfl2057nxkp3nm0000gn/T/ipykernel_27557/2703198721.py:7: FutureWarning: \n",
      "\n",
      "Passing `palette` without assigning `hue` is deprecated and will be removed in v0.14.0. Assign the `x` variable to `hue` and set `legend=False` for the same effect.\n",
      "\n",
      "  sns.barplot(x=emotions_count.index, y=emotions_count.values,palette='viridis')\n"
     ]
    },
    {
     "data": {
      "text/plain": "<Figure size 900x600 with 1 Axes>",
      "image/png": "[encoded data removed]"
     },
     "metadata": {},
     "output_type": "display_data"
    }
   ],
   "source": [
    "print(\"Possible sentiments are\", np.unique(df_train['emotion']), \"of\", len(np.unique(df_train['emotion'])),\"sentiments\")\n",
    "print(\"The number of posts for training is\", len(df_train))\n",
    "\n",
    "emotions_count = df_train['emotion'].value_counts()\n",
    "\n",
    "plt.figure(figsize=(9, 6))\n",
    "sns.barplot(x=emotions_count.index, y=emotions_count.values,palette='viridis')\n",
    "plt.title('Count of instance for each category')\n",
    "plt.xlabel('Categories')\n",
    "plt.ylabel('Count')\n",
    "plt.xticks(rotation=45, ha='right')\n",
    "plt.show()\n",
    "\n",
    "#split into corpus and target, making target onehot encoded\n",
    "\n",
    "label_encoder = LabelEncoder()\n",
    "\n",
    "corpus_train = df_train['essay']\n",
    "train = label_encoder.fit_transform(df_train['emotion'])\n",
    "target_train = to_categorical(train, num_classes=len(CATEGORIES))\n",
    "\n",
    "corpus_val = df_val['essay']\n",
    "val = label_encoder.fit_transform(df_val['emotion'])\n",
    "target_val = to_categorical(val, num_classes=len(CATEGORIES))\n",
    "\n",
    "corpus_test = df_test['essay']\n",
    "test = label_encoder.fit_transform(df_test['emotion'])\n",
    "target_test = to_categorical(test, num_classes=len(CATEGORIES))"
   ],
   "metadata": {
    "collapsed": false,
    "ExecuteTime": {
     "end_time": "2024-03-01T13:51:04.527590Z",
     "start_time": "2024-03-01T13:51:04.404799Z"
    }
   },
   "id": "5aa4c52b3a69c8e4"
  },
  {
   "cell_type": "code",
   "execution_count": 6,
   "outputs": [
    {
     "name": "stdout",
     "output_type": "stream",
     "text": [
      "(1302, 7)\n"
     ]
    }
   ],
   "source": [
    "print(target_train.shape)"
   ],
   "metadata": {
    "collapsed": false,
    "ExecuteTime": {
     "end_time": "2024-03-01T13:51:06.150977Z",
     "start_time": "2024-03-01T13:51:06.146448Z"
    }
   },
   "id": "8e291808912a7f1b"
  },
  {
   "cell_type": "code",
   "execution_count": 7,
   "outputs": [
    {
     "name": "stdout",
     "output_type": "stream",
     "text": [
      "(1302,)\n"
     ]
    }
   ],
   "source": [
    "print(corpus_train.shape)"
   ],
   "metadata": {
    "collapsed": false,
    "ExecuteTime": {
     "end_time": "2024-03-01T13:51:08.291853Z",
     "start_time": "2024-03-01T13:51:08.286873Z"
    }
   },
   "id": "d89c46a5a8fc3e17"
  },
  {
   "cell_type": "markdown",
   "source": [
    "# Preprocessing"
   ],
   "metadata": {
    "collapsed": false
   },
   "id": "1f7e93c07f08f7e3"
  },
  {
   "cell_type": "markdown",
   "source": [
    "Now we clean up the text to get clean tokens. 1. we only want alphabets and numerics, lowercase 2. tokenization 3. lemmatization 4. remove stop words"
   ],
   "metadata": {
    "collapsed": false
   },
   "id": "199b1ed9f05d10d6"
  },
  {
   "cell_type": "code",
   "execution_count": 8,
   "outputs": [],
   "source": [
    "stop_words = stopwords.words('english')\n",
    "lemmatizer = WordNetLemmatizer()\n",
    "\n",
    "# write a preprocess function\n",
    "def clean_text(text):\n",
    "    cleaned_texts = []\n",
    "    for row in text:\n",
    "        row = re.sub(r'[^A-Za-z0-9 ]', '', row) #keep only alphabets, numbers, and space\n",
    "        row = row.lower() #covert to lower case\n",
    "        tokens = wordpunct_tokenize(row) #tokenize\n",
    "        tokens = [lemmatizer.lemmatize(token) for token in tokens if token not in stop_words] #lemmatize and delete stop words\n",
    "        cleaned_text = ' '.join(tokens)\n",
    "        cleaned_texts.append(cleaned_text)\n",
    "    return cleaned_texts"
   ],
   "metadata": {
    "collapsed": false,
    "ExecuteTime": {
     "end_time": "2024-03-01T13:51:18.171323Z",
     "start_time": "2024-03-01T13:51:18.158062Z"
    }
   },
   "id": "cc4e127ad2f707e9"
  },
  {
   "cell_type": "code",
   "execution_count": 9,
   "outputs": [],
   "source": [
    "x_train = clean_text(corpus_train)\n",
    "y_train = target_train\n",
    "\n",
    "x_val = clean_text(corpus_val)\n",
    "y_val = target_val\n",
    "\n",
    "x_test = clean_text(corpus_test)\n",
    "y_test = target_test"
   ],
   "metadata": {
    "collapsed": false,
    "ExecuteTime": {
     "end_time": "2024-03-01T13:51:19.792240Z",
     "start_time": "2024-03-01T13:51:19.010594Z"
    }
   },
   "id": "9ac4f731cf5130ee"
  },
  {
   "cell_type": "markdown",
   "source": [
    "Now it is a good idea to see the text before preprocessing and after preprocessing. Including the total number of unique tokens and "
   ],
   "metadata": {
    "collapsed": false
   },
   "id": "8566ab4de22657f5"
  },
  {
   "cell_type": "code",
   "execution_count": 11,
   "outputs": [
    {
     "data": {
      "text/plain": "                                       original text  \\\n0  This is a terrible story, but we can't go so f...   \n\n                                   preprocessed text  total tokens  \\\n0  terrible story cant go far blame entire religi...         52165   \n\n   unique tokens  \n0           7453  ",
      "text/html": "<div>\n<style scoped>\n    .dataframe tbody tr th:only-of-type {\n        vertical-align: middle;\n    }\n\n    .dataframe tbody tr th {\n        vertical-align: top;\n    }\n\n    .dataframe thead th {\n        text-align: right;\n    }\n</style>\n<table border=\"1\" class=\"dataframe\">\n  <thead>\n    <tr style=\"text-align: right;\">\n      <th></th>\n      <th>original text</th>\n      <th>preprocessed text</th>\n      <th>total tokens</th>\n      <th>unique tokens</th>\n    </tr>\n  </thead>\n  <tbody>\n    <tr>\n      <th>0</th>\n      <td>This is a terrible story, but we can't go so f...</td>\n      <td>terrible story cant go far blame entire religi...</td>\n      <td>52165</td>\n      <td>7453</td>\n    </tr>\n  </tbody>\n</table>\n</div>"
     },
     "execution_count": 11,
     "metadata": {},
     "output_type": "execute_result"
    }
   ],
   "source": [
    "summary = pd.DataFrame({'original text': [corpus_train[2]],\n",
    "                        'preprocessed text': [x_train[2]]})\n",
    "review_len = [sum(1 for word in review.split()) for review in x_train]\n",
    "tk = [[word for word in review.split()] for review in x_train]\n",
    "tk_flatten = [token for review in tk for token in review]\n",
    "tk_num_unique = len(set(tk_flatten))\n",
    "summary['total tokens'] = np.sum(review_len)\n",
    "summary['unique tokens'] = tk_num_unique\n",
    "summary"
   ],
   "metadata": {
    "collapsed": false,
    "ExecuteTime": {
     "end_time": "2024-03-01T13:51:30.090947Z",
     "start_time": "2024-03-01T13:51:30.079089Z"
    }
   },
   "id": "324efdb1f4e48c87"
  },
  {
   "cell_type": "markdown",
   "source": [
    "#TF-IDF"
   ],
   "metadata": {
    "collapsed": false
   },
   "id": "a66f1a5ed9f18113"
  },
  {
   "cell_type": "code",
   "execution_count": 12,
   "outputs": [],
   "source": [
    "EPOCH = 50\n",
    "BATCHSIZE = 100"
   ],
   "metadata": {
    "collapsed": false,
    "ExecuteTime": {
     "end_time": "2024-03-01T13:51:32.917569Z",
     "start_time": "2024-03-01T13:51:32.905729Z"
    }
   },
   "id": "646330a1d10b29df"
  },
  {
   "cell_type": "code",
   "execution_count": 13,
   "outputs": [],
   "source": [
    "vectorizer = TfidfVectorizer(use_idf=True, max_features=900)\n",
    "tf_idf_train = vectorizer.fit_transform(x_train).toarray()\n",
    "\n",
    "tf_idf_val = vectorizer.transform(x_val).toarray()\n",
    "tf_idf_test = vectorizer.transform(x_test).toarray()"
   ],
   "metadata": {
    "collapsed": false,
    "ExecuteTime": {
     "end_time": "2024-03-01T13:51:34.200501Z",
     "start_time": "2024-03-01T13:51:34.041947Z"
    }
   },
   "id": "bafebd9df60dc430"
  },
  {
   "cell_type": "code",
   "execution_count": 14,
   "outputs": [
    {
     "name": "stdout",
     "output_type": "stream",
     "text": [
      "Epoch 1/50\n",
      "14/14 [==============================] - 0s 6ms/step - loss: 1.9307 - accuracy: 0.2473 - val_loss: 1.9128 - val_accuracy: 0.3495\n",
      "Epoch 2/50\n",
      " 1/14 [=>............................] - ETA: 0s - loss: 1.9096 - accuracy: 0.3400"
     ]
    },
    {
     "name": "stderr",
     "output_type": "stream",
     "text": [
      "2024-03-01 14:51:37.096166: W tensorflow/tsl/platform/profile_utils/cpu_utils.cc:128] Failed to get CPU frequency: 0 Hz\n"
     ]
    },
    {
     "name": "stdout",
     "output_type": "stream",
     "text": [
      "14/14 [==============================] - 0s 1ms/step - loss: 1.8916 - accuracy: 0.3479 - val_loss: 1.8799 - val_accuracy: 0.3441\n",
      "Epoch 3/50\n",
      "14/14 [==============================] - 0s 1ms/step - loss: 1.8519 - accuracy: 0.3510 - val_loss: 1.8445 - val_accuracy: 0.3441\n",
      "Epoch 4/50\n",
      "14/14 [==============================] - 0s 1ms/step - loss: 1.8097 - accuracy: 0.3495 - val_loss: 1.8100 - val_accuracy: 0.3441\n",
      "Epoch 5/50\n",
      "14/14 [==============================] - 0s 1ms/step - loss: 1.7673 - accuracy: 0.3495 - val_loss: 1.7782 - val_accuracy: 0.3441\n",
      "Epoch 6/50\n",
      "14/14 [==============================] - 0s 1ms/step - loss: 1.7269 - accuracy: 0.3495 - val_loss: 1.7504 - val_accuracy: 0.3441\n",
      "Epoch 7/50\n",
      "14/14 [==============================] - 0s 1ms/step - loss: 1.6915 - accuracy: 0.3495 - val_loss: 1.7289 - val_accuracy: 0.3441\n",
      "Epoch 8/50\n",
      "14/14 [==============================] - 0s 1ms/step - loss: 1.6598 - accuracy: 0.3502 - val_loss: 1.7103 - val_accuracy: 0.3441\n",
      "Epoch 9/50\n",
      "14/14 [==============================] - 0s 1ms/step - loss: 1.6311 - accuracy: 0.3518 - val_loss: 1.6941 - val_accuracy: 0.3459\n",
      "Epoch 10/50\n",
      "14/14 [==============================] - 0s 1ms/step - loss: 1.6026 - accuracy: 0.3587 - val_loss: 1.6807 - val_accuracy: 0.3495\n",
      "Epoch 11/50\n",
      "14/14 [==============================] - 0s 1ms/step - loss: 1.5753 - accuracy: 0.3802 - val_loss: 1.6693 - val_accuracy: 0.3584\n",
      "Epoch 12/50\n",
      "14/14 [==============================] - 0s 1ms/step - loss: 1.5487 - accuracy: 0.3971 - val_loss: 1.6580 - val_accuracy: 0.3638\n",
      "Epoch 13/50\n",
      "14/14 [==============================] - 0s 1ms/step - loss: 1.5211 - accuracy: 0.4155 - val_loss: 1.6469 - val_accuracy: 0.3638\n",
      "Epoch 14/50\n",
      "14/14 [==============================] - 0s 1ms/step - loss: 1.4936 - accuracy: 0.4247 - val_loss: 1.6362 - val_accuracy: 0.3674\n",
      "Epoch 15/50\n",
      "14/14 [==============================] - 0s 1ms/step - loss: 1.4659 - accuracy: 0.4432 - val_loss: 1.6255 - val_accuracy: 0.3728\n",
      "Epoch 16/50\n",
      "14/14 [==============================] - 0s 1ms/step - loss: 1.4379 - accuracy: 0.4693 - val_loss: 1.6163 - val_accuracy: 0.3943\n",
      "Epoch 17/50\n",
      "14/14 [==============================] - 0s 1ms/step - loss: 1.4098 - accuracy: 0.4869 - val_loss: 1.6066 - val_accuracy: 0.3961\n",
      "Epoch 18/50\n",
      "14/14 [==============================] - 0s 1ms/step - loss: 1.3818 - accuracy: 0.4946 - val_loss: 1.5971 - val_accuracy: 0.3978\n",
      "Epoch 19/50\n",
      "14/14 [==============================] - 0s 1ms/step - loss: 1.3539 - accuracy: 0.5038 - val_loss: 1.5879 - val_accuracy: 0.4068\n",
      "Epoch 20/50\n",
      "14/14 [==============================] - 0s 1ms/step - loss: 1.3267 - accuracy: 0.5315 - val_loss: 1.5803 - val_accuracy: 0.4050\n",
      "Epoch 21/50\n",
      "14/14 [==============================] - 0s 1ms/step - loss: 1.2995 - accuracy: 0.5614 - val_loss: 1.5725 - val_accuracy: 0.4068\n",
      "Epoch 22/50\n",
      "14/14 [==============================] - 0s 1ms/step - loss: 1.2725 - accuracy: 0.5853 - val_loss: 1.5633 - val_accuracy: 0.4032\n",
      "Epoch 23/50\n",
      "14/14 [==============================] - 0s 1ms/step - loss: 1.2465 - accuracy: 0.6037 - val_loss: 1.5556 - val_accuracy: 0.4086\n",
      "Epoch 24/50\n",
      "14/14 [==============================] - 0s 1ms/step - loss: 1.2202 - accuracy: 0.6137 - val_loss: 1.5496 - val_accuracy: 0.4086\n",
      "Epoch 25/50\n",
      "14/14 [==============================] - 0s 1ms/step - loss: 1.1955 - accuracy: 0.6221 - val_loss: 1.5443 - val_accuracy: 0.4068\n",
      "Epoch 26/50\n",
      "14/14 [==============================] - 0s 1ms/step - loss: 1.1711 - accuracy: 0.6313 - val_loss: 1.5379 - val_accuracy: 0.4122\n",
      "Epoch 27/50\n",
      "14/14 [==============================] - 0s 1ms/step - loss: 1.1464 - accuracy: 0.6521 - val_loss: 1.5337 - val_accuracy: 0.4194\n",
      "Epoch 28/50\n",
      "14/14 [==============================] - 0s 1ms/step - loss: 1.1231 - accuracy: 0.6598 - val_loss: 1.5298 - val_accuracy: 0.4104\n",
      "Epoch 29/50\n",
      "14/14 [==============================] - 0s 1ms/step - loss: 1.0995 - accuracy: 0.6736 - val_loss: 1.5240 - val_accuracy: 0.4194\n",
      "Epoch 30/50\n",
      "14/14 [==============================] - 0s 1ms/step - loss: 1.0770 - accuracy: 0.6843 - val_loss: 1.5214 - val_accuracy: 0.4229\n",
      "Epoch 31/50\n",
      "14/14 [==============================] - 0s 1ms/step - loss: 1.0544 - accuracy: 0.6966 - val_loss: 1.5163 - val_accuracy: 0.4319\n",
      "Epoch 32/50\n",
      "14/14 [==============================] - 0s 1ms/step - loss: 1.0325 - accuracy: 0.7097 - val_loss: 1.5143 - val_accuracy: 0.4301\n",
      "Epoch 33/50\n",
      "14/14 [==============================] - 0s 1ms/step - loss: 1.0116 - accuracy: 0.7104 - val_loss: 1.5108 - val_accuracy: 0.4301\n",
      "Epoch 34/50\n",
      "14/14 [==============================] - 0s 1ms/step - loss: 0.9911 - accuracy: 0.7166 - val_loss: 1.5084 - val_accuracy: 0.4355\n",
      "Epoch 35/50\n",
      "14/14 [==============================] - 0s 1ms/step - loss: 0.9712 - accuracy: 0.7258 - val_loss: 1.5053 - val_accuracy: 0.4427\n",
      "Epoch 36/50\n",
      "14/14 [==============================] - 0s 1ms/step - loss: 0.9511 - accuracy: 0.7289 - val_loss: 1.5037 - val_accuracy: 0.4444\n",
      "Epoch 37/50\n",
      "14/14 [==============================] - 0s 1ms/step - loss: 0.9317 - accuracy: 0.7373 - val_loss: 1.5016 - val_accuracy: 0.4427\n",
      "Epoch 38/50\n",
      "14/14 [==============================] - 0s 1ms/step - loss: 0.9130 - accuracy: 0.7412 - val_loss: 1.5006 - val_accuracy: 0.4409\n",
      "Epoch 39/50\n",
      "14/14 [==============================] - 0s 1ms/step - loss: 0.8954 - accuracy: 0.7458 - val_loss: 1.5006 - val_accuracy: 0.4480\n",
      "Epoch 40/50\n",
      "14/14 [==============================] - 0s 1ms/step - loss: 0.8760 - accuracy: 0.7504 - val_loss: 1.5012 - val_accuracy: 0.4391\n",
      "Epoch 41/50\n",
      "14/14 [==============================] - 0s 1ms/step - loss: 0.8582 - accuracy: 0.7519 - val_loss: 1.5017 - val_accuracy: 0.4444\n",
      "Epoch 42/50\n",
      "14/14 [==============================] - 0s 1ms/step - loss: 0.8405 - accuracy: 0.7596 - val_loss: 1.5026 - val_accuracy: 0.4409\n",
      "Epoch 43/50\n",
      "14/14 [==============================] - 0s 1ms/step - loss: 0.8241 - accuracy: 0.7665 - val_loss: 1.5048 - val_accuracy: 0.4373\n",
      "Epoch 44/50\n",
      "14/14 [==============================] - 0s 1ms/step - loss: 0.8068 - accuracy: 0.7796 - val_loss: 1.5064 - val_accuracy: 0.4337\n",
      "Epoch 45/50\n",
      "14/14 [==============================] - 0s 1ms/step - loss: 0.7911 - accuracy: 0.7926 - val_loss: 1.5079 - val_accuracy: 0.4391\n",
      "Epoch 46/50\n",
      "14/14 [==============================] - 0s 1ms/step - loss: 0.7746 - accuracy: 0.8003 - val_loss: 1.5087 - val_accuracy: 0.4427\n",
      "Epoch 47/50\n",
      "14/14 [==============================] - 0s 1ms/step - loss: 0.7587 - accuracy: 0.8057 - val_loss: 1.5111 - val_accuracy: 0.4427\n",
      "Epoch 48/50\n",
      "14/14 [==============================] - 0s 1ms/step - loss: 0.7439 - accuracy: 0.8103 - val_loss: 1.5137 - val_accuracy: 0.4409\n",
      "Epoch 49/50\n",
      "14/14 [==============================] - 0s 1ms/step - loss: 0.7285 - accuracy: 0.8195 - val_loss: 1.5153 - val_accuracy: 0.4498\n",
      "Epoch 50/50\n",
      "14/14 [==============================] - 0s 1ms/step - loss: 0.7134 - accuracy: 0.8210 - val_loss: 1.5176 - val_accuracy: 0.4409\n"
     ]
    }
   ],
   "source": [
    "#model\n",
    "\n",
    "model = Sequential()\n",
    "model.add(Dense(20, activation='relu', input_shape=(tf_idf_train.shape[1],)))\n",
    "model.add(Dense(7, activation='softmax'))\n",
    "\n",
    "model.compile(loss = 'categorical_crossentropy', optimizer = 'Adam', metrics = ['accuracy'])\n",
    "history = model.fit(tf_idf_train, y_train, epochs=EPOCH, batch_size=BATCHSIZE, validation_data=(tf_idf_val, y_val))"
   ],
   "metadata": {
    "collapsed": false,
    "ExecuteTime": {
     "end_time": "2024-03-01T13:51:38.253070Z",
     "start_time": "2024-03-01T13:51:37.048816Z"
    }
   },
   "id": "55cb60580bc01288"
  },
  {
   "cell_type": "code",
   "execution_count": 15,
   "outputs": [
    {
     "name": "stdout",
     "output_type": "stream",
     "text": [
      "9/9 [==============================] - 0s 515us/step\n",
      "          anger  disgust  fear  joy  neutral  sadness  surprise\n",
      "anger        36        1     1    0        6       30         2\n",
      "disgust       6        0     0    0        1        5         0\n",
      "fear          3        0    15    0        2       11         0\n",
      "joy           3        0     3    0        3        4         1\n",
      "neutral       6        0     1    0        8        8         2\n",
      "sadness       9        0     4    0        9       76         0\n",
      "surprise      6        0     0    0        1        5         2\n",
      "[[36  1  1  0  6 30  2]\n",
      " [ 6  0  0  0  1  5  0]\n",
      " [ 3  0 15  0  2 11  0]\n",
      " [ 3  0  3  0  3  4  1]\n",
      " [ 6  0  1  0  8  8  2]\n",
      " [ 9  0  4  0  9 76  0]\n",
      " [ 6  0  0  0  1  5  2]]\n",
      "Confusion matrix is a NumPy array.\n"
     ]
    },
    {
     "data": {
      "text/plain": "<Figure size 900x700 with 2 Axes>",
      "image/png": "[encoded data removed]"
     },
     "metadata": {},
     "output_type": "display_data"
    },
    {
     "name": "stdout",
     "output_type": "stream",
     "text": [
      "\n",
      "Classification Report:\n",
      "              precision    recall  f1-score   support\n",
      "\n",
      "           0       0.52      0.47      0.50        76\n",
      "           1       0.00      0.00      0.00        12\n",
      "           2       0.62      0.48      0.55        31\n",
      "           3       0.00      0.00      0.00        14\n",
      "           4       0.27      0.32      0.29        25\n",
      "           5       0.55      0.78      0.64        98\n",
      "           6       0.29      0.14      0.19        14\n",
      "\n",
      "    accuracy                           0.51       270\n",
      "   macro avg       0.32      0.31      0.31       270\n",
      "weighted avg       0.46      0.51      0.47       270\n"
     ]
    },
    {
     "name": "stderr",
     "output_type": "stream",
     "text": [
      "/Users/ygao/anaconda3/envs/nlp/lib/python3.11/site-packages/sklearn/metrics/_classification.py:1469: UndefinedMetricWarning: Precision and F-score are ill-defined and being set to 0.0 in labels with no predicted samples. Use `zero_division` parameter to control this behavior.\n",
      "  _warn_prf(average, modifier, msg_start, len(result))\n",
      "/Users/ygao/anaconda3/envs/nlp/lib/python3.11/site-packages/sklearn/metrics/_classification.py:1469: UndefinedMetricWarning: Precision and F-score are ill-defined and being set to 0.0 in labels with no predicted samples. Use `zero_division` parameter to control this behavior.\n",
      "  _warn_prf(average, modifier, msg_start, len(result))\n",
      "/Users/ygao/anaconda3/envs/nlp/lib/python3.11/site-packages/sklearn/metrics/_classification.py:1469: UndefinedMetricWarning: Precision and F-score are ill-defined and being set to 0.0 in labels with no predicted samples. Use `zero_division` parameter to control this behavior.\n",
      "  _warn_prf(average, modifier, msg_start, len(result))\n"
     ]
    }
   ],
   "source": [
    "\n",
    "y_pred = model.predict(tf_idf_test)\n",
    "y_pred_labels = np.argmax(y_pred, axis=1)\n",
    "y_true_labels = np.argmax(y_test, axis=1)\n",
    "conf_matrix = confusion_matrix(y_true_labels, y_pred_labels)\n",
    "\n",
    "#print classification report\n",
    "print(\"\\nClassification Report:\")\n",
    "print(classification_report(y_true_labels, y_pred_labels))"
   ],
   "metadata": {
    "collapsed": false,
    "ExecuteTime": {
     "end_time": "2024-03-01T13:51:43.422264Z",
     "start_time": "2024-03-01T13:51:43.252326Z"
    }
   },
   "id": "b20e2e03e6ca2f16"
  },
  {
   "cell_type": "code",
   "execution_count": 143,
   "outputs": [],
   "source": [
    "def confusionPlot(matrix, normailize=True, title='Confusion Matrix', cmap='Blues'):\n",
    "    if normailize:\n",
    "        matrix = matrix.astype('float')/matrix.sum(axis=1)[:,np.newaxis]\n",
    "    plt.figure(figsize=(9,7))\n",
    "    sns.heatmap(matrix, annot=True, fmt='.2f' if normailize else 'd', cmap=cmap)\n",
    "    plt.title(title)\n",
    "    plt.xlabel('Predicted Label')\n",
    "    plt.ylabel('True Label')\n",
    "    plt.show()"
   ],
   "metadata": {
    "collapsed": false,
    "ExecuteTime": {
     "end_time": "2024-03-01T13:47:10.062177Z",
     "start_time": "2024-03-01T13:47:10.055794Z"
    }
   },
   "id": "dce012042a63e1b"
  },
  {
   "cell_type": "code",
   "execution_count": 146,
   "outputs": [
    {
     "data": {
      "text/plain": "<Figure size 900x700 with 2 Axes>",
      "image/png": "[encoded data removed]"
     },
     "metadata": {},
     "output_type": "display_data"
    }
   ],
   "source": [
    "confusionPlot(conf_matrix)"
   ],
   "metadata": {
    "collapsed": false,
    "ExecuteTime": {
     "end_time": "2024-03-01T13:48:15.798584Z",
     "start_time": "2024-03-01T13:48:15.712408Z"
    }
   },
   "id": "4880465eeb75283c"
  },
  {
   "cell_type": "code",
   "execution_count": 147,
   "outputs": [
    {
     "name": "stdout",
     "output_type": "stream",
     "text": [
      "Seaborn version: 0.12.2\n"
     ]
    }
   ],
   "source": [
    "print(\"Seaborn version:\", sns.__version__)"
   ],
   "metadata": {
    "collapsed": false,
    "ExecuteTime": {
     "end_time": "2024-03-01T13:49:42.887547Z",
     "start_time": "2024-03-01T13:49:42.861434Z"
    }
   },
   "id": "c25966a5363dce19"
  },
  {
   "cell_type": "code",
   "execution_count": null,
   "outputs": [],
   "source": [],
   "metadata": {
    "collapsed": false
   },
   "id": "2de66a6fc226419"
  }
 ],
 "metadata": {
  "kernelspec": {
   "display_name": "Python 3",
   "language": "python",
   "name": "python3"
  },
  "language_info": {
   "codemirror_mode": {
    "name": "ipython",
    "version": 2
   },
   "file_extension": ".py",
   "mimetype": "text/x-python",
   "name": "python",
   "nbconvert_exporter": "python",
   "pygments_lexer": "ipython2",
   "version": "2.7.6"
  }
 },
 "nbformat": 4,
 "nbformat_minor": 5
}
